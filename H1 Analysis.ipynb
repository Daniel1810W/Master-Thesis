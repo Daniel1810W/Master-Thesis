{
 "cells": [
  {
   "cell_type": "markdown",
   "id": "e206d47e-3652-4802-8ccb-4500bcdd1ccb",
   "metadata": {},
   "source": [
    "# Master Thesis - H1 Analysis"
   ]
  },
  {
   "cell_type": "markdown",
   "id": "ef098097-71fe-4afd-bc23-d877f6642141",
   "metadata": {},
   "source": [
    "## H1 = hypothesis 1, 7, 8 and 9\n",
    "\n",
    "#### Hypothesis 1 = Unanticipated tightening monetary policy shock negativly impact excess stock returns for firms\n",
    "#### Hypothesis 7 = Financial Sector firms exhibit higher sensitivity to monetary shocks\n",
    "#### Hypothesis 8 = Energy Sector firms exhibit muted sensitivity to monetary shocks\n",
    "#### Hypothesis 9 = Technology and growth oriented sectors exhibit higher sensitivity to monetary shocks"
   ]
  },
  {
   "cell_type": "markdown",
   "id": "96f2ea07-9b62-43ff-9607-e2de8da14cb6",
   "metadata": {
    "jp-MarkdownHeadingCollapsed": true
   },
   "source": [
    "### Kristoffer Stjern & Daniel W. Kabré"
   ]
  },
  {
   "cell_type": "markdown",
   "id": "e5b92b81-7409-4567-8167-cab11e0fa9b9",
   "metadata": {},
   "source": [
    "# -----------------------------------------------------------------------------------------"
   ]
  },
  {
   "cell_type": "markdown",
   "id": "444c7718-0739-4d17-af5b-27253d880f22",
   "metadata": {},
   "source": [
    "# Chapter 0) Settings"
   ]
  },
  {
   "cell_type": "markdown",
   "id": "073c0f6b-4329-4dd8-95da-4997148fc927",
   "metadata": {},
   "source": [
    "## 0.1) Importing libraries"
   ]
  },
  {
   "cell_type": "code",
   "execution_count": 1,
   "id": "aa82e646-eef5-4a09-8814-28f2d4f63800",
   "metadata": {},
   "outputs": [],
   "source": [
    "import numpy as np\n",
    "import pandas as pd\n",
    "import matplotlib.pyplot as plt\n",
    "import os\n",
    "import datetime as dt\n",
    "import statsmodels.api as sm\n",
    "import warnings\n",
    "from sklearn.preprocessing import LabelEncoder\n",
    "from scipy import stats\n",
    "\n",
    "\n",
    "warnings.simplefilter(\"ignore\")"
   ]
  },
  {
   "cell_type": "markdown",
   "id": "d106817c-cf03-46e0-92f9-565413388458",
   "metadata": {},
   "source": [
    "## 0.2) Parameters"
   ]
  },
  {
   "cell_type": "code",
   "execution_count": null,
   "id": "a47ddffc-ddb2-4b86-8180-153d5e9c986b",
   "metadata": {},
   "outputs": [],
   "source": []
  },
  {
   "cell_type": "markdown",
   "id": "b6e08557-f24b-4eb7-9712-b76c650e2ed3",
   "metadata": {},
   "source": [
    "## Chapter 1) Importing Data"
   ]
  },
  {
   "cell_type": "code",
   "execution_count": 56,
   "id": "61d7413c-db92-4d4c-a892-6fd6f2bb48d1",
   "metadata": {},
   "outputs": [],
   "source": [
    "df = pd.read_excel(\"Data/Finished Dataframes/H1_df.xlsx\")\n",
    "df.index = pd.to_datetime(df[\"Unnamed: 0\"])\n",
    "df.drop(\"Unnamed: 0\",axis=1,inplace=True)\n",
    "df.index.name = \"Date\""
   ]
  },
  {
   "cell_type": "code",
   "execution_count": 57,
   "id": "56581061-2c9d-48d0-9317-14a5a7cf41e1",
   "metadata": {},
   "outputs": [],
   "source": [
    "control_variables = df.columns[16:]"
   ]
  },
  {
   "cell_type": "code",
   "execution_count": 58,
   "id": "7ff9c9b9-8471-4269-af3a-06d687e465a3",
   "metadata": {},
   "outputs": [],
   "source": [
    "df_b = df[df[\"Industry\"].isin( [\"Banks\"])]"
   ]
  },
  {
   "cell_type": "code",
   "execution_count": 59,
   "id": "7b5af490-17a5-40a2-9cd4-75eb9c431444",
   "metadata": {},
   "outputs": [],
   "source": [
    "df = df[df[\"Industry\"] != \"Banks\"]"
   ]
  },
  {
   "cell_type": "markdown",
   "id": "1b2fa938-17f7-4931-8ed0-8d481e6aa04f",
   "metadata": {},
   "source": [
    "## Chapter 2) Data Cleaning"
   ]
  },
  {
   "cell_type": "markdown",
   "id": "44b82dbc-d6ef-4b56-b3fb-eeb479e0ee8b",
   "metadata": {},
   "source": [
    "### 2.1) Dropping NA"
   ]
  },
  {
   "cell_type": "code",
   "execution_count": 6,
   "id": "f453a821-9231-4c44-9702-e88fe03efcea",
   "metadata": {},
   "outputs": [],
   "source": [
    "### BRW\n",
    "\n",
    "df_cleaned_k1_brw = df.drop([\"K2\",\t\"K3\",\t\"K4\"\t,\"K5\",\t\"K6\",\t\"K7\",\"FF4\"],axis=1)\n",
    "df_cleaned_k1_brw.dropna(subset=['K1'],inplace=True)\n",
    "\n",
    "df_cleaned_k2_brw = df.drop([\"K1\",\t\"K3\",\t\"K4\"\t,\"K5\",\t\"K6\",\t\"K7\",\"FF4\"],axis=1)\n",
    "df_cleaned_k2_brw.dropna(subset=['K2'],inplace=True)\n",
    "\n",
    "df_cleaned_k3_brw = df.drop([\"K1\",\t\"K2\",\t\"K4\"\t,\"K5\",\t\"K6\",\t\"K7\",\"FF4\"],axis=1)\n",
    "df_cleaned_k3_brw.dropna(subset=['K3'],inplace=True)\n",
    "\n",
    "df_cleaned_k4_brw = df.drop([\"K1\",\t\"K2\",\t\"K3\"\t,\"K5\",\t\"K6\",\t\"K7\",\"FF4\"],axis=1)\n",
    "df_cleaned_k4_brw.dropna(subset=['K4'],inplace=True)\n",
    "\n",
    "df_cleaned_k5_brw = df.drop([\"K1\",\t\"K2\",\t\"K3\"\t,\"K4\",\t\"K6\",\t\"K7\",\"FF4\"],axis=1)\n",
    "df_cleaned_k5_brw.dropna(subset=['K5'],inplace=True)\n",
    "\n",
    "df_cleaned_k6_brw = df.drop([\"K1\",\t\"K2\",\t\"K3\"\t,\"K4\",\t\"K5\",\t\"K7\",\"FF4\"],axis=1)\n",
    "df_cleaned_k6_brw.dropna(subset=['K6'],inplace=True)\n",
    "\n",
    "df_cleaned_k7_brw = df.drop([\"K1\",\t\"K2\",\t\"K3\"\t,\"K4\",\t\"K5\",\t\"K6\",\"FF4\"],axis=1)\n",
    "df_cleaned_k7_brw.dropna(subset=['K7'],inplace=True)\n",
    "\n",
    "### FF4\n",
    "\n",
    "df_cleaned_k1_ff4 = df.drop([\"K2\",\t\"K3\",\t\"K4\"\t,\"K5\",\t\"K6\",\t\"K7\",\"BRW\"],axis=1)\n",
    "df_cleaned_k1_ff4.dropna(subset=['K1'],inplace=True)\n",
    "df_cleaned_k1_ff4.dropna(subset=['FF4'],inplace=True)\n",
    "\n",
    "df_cleaned_k2_ff4 = df.drop([\"K1\",\t\"K3\",\t\"K4\"\t,\"K5\",\t\"K6\",\t\"K7\",\"BRW\"],axis=1)\n",
    "df_cleaned_k2_ff4.dropna(subset=['K2'],inplace=True)\n",
    "df_cleaned_k2_ff4.dropna(subset=['FF4'],inplace=True)\n",
    "\n",
    "df_cleaned_k3_ff4 = df.drop([\"K1\",\t\"K2\",\t\"K4\"\t,\"K5\",\t\"K6\",\t\"K7\",\"BRW\"],axis=1)\n",
    "df_cleaned_k3_ff4.dropna(subset=['K3'],inplace=True)\n",
    "df_cleaned_k3_ff4.dropna(subset=['FF4'],inplace=True)\n",
    "\n",
    "df_cleaned_k4_ff4 = df.drop([\"K1\",\t\"K2\",\t\"K3\"\t,\"K5\",\t\"K6\",\t\"K7\",\"BRW\"],axis=1)\n",
    "df_cleaned_k4_ff4.dropna(subset=['K4'],inplace=True)\n",
    "df_cleaned_k4_ff4.dropna(subset=['FF4'],inplace=True)\n",
    "\n",
    "df_cleaned_k5_ff4 = df.drop([\"K1\",\t\"K2\",\t\"K3\"\t,\"K4\",\t\"K6\",\t\"K7\",\"BRW\"],axis=1)\n",
    "df_cleaned_k5_ff4.dropna(subset=['K5'],inplace=True)\n",
    "df_cleaned_k5_ff4.dropna(subset=['FF4'],inplace=True)\n",
    "\n",
    "df_cleaned_k6_ff4 = df.drop([\"K1\",\t\"K2\",\t\"K3\"\t,\"K4\",\t\"K5\",\t\"K7\",\"BRW\"],axis=1)\n",
    "df_cleaned_k6_ff4.dropna(subset=['K6'],inplace=True)\n",
    "df_cleaned_k6_ff4.dropna(subset=['FF4'],inplace=True)\n",
    "\n",
    "df_cleaned_k7_ff4 = df.drop([\"K1\",\t\"K2\",\t\"K3\"\t,\"K4\",\t\"K5\",\t\"K6\",\"BRW\"],axis=1)\n",
    "df_cleaned_k7_ff4.dropna(subset=['K7'],inplace=True)\n",
    "df_cleaned_k7_ff4.dropna(subset=['FF4'],inplace=True)"
   ]
  },
  {
   "cell_type": "markdown",
   "id": "74abf840-3268-43cf-b8f4-fc2d34433c62",
   "metadata": {},
   "source": [
    "### 2.2) Fill NA"
   ]
  },
  {
   "cell_type": "code",
   "execution_count": 7,
   "id": "caf0098e-b0bd-4c56-ba64-4bc834d58dd4",
   "metadata": {},
   "outputs": [],
   "source": [
    "df_cleaned_k1_brw.fillna(0,inplace=True)\n",
    "df_cleaned_k2_brw.fillna(0,inplace=True)\n",
    "df_cleaned_k3_brw.fillna(0,inplace=True)\n",
    "df_cleaned_k4_brw.fillna(0,inplace=True)\n",
    "df_cleaned_k5_brw.fillna(0,inplace=True)\n",
    "df_cleaned_k6_brw.fillna(0,inplace=True)\n",
    "df_cleaned_k7_brw.fillna(0,inplace=True)\n",
    "\n",
    "df_cleaned_k1_ff4.fillna(0,inplace=True)\n",
    "df_cleaned_k2_ff4.fillna(0,inplace=True)\n",
    "df_cleaned_k3_ff4.fillna(0,inplace=True)\n",
    "df_cleaned_k4_ff4.fillna(0,inplace=True)\n",
    "df_cleaned_k5_ff4.fillna(0,inplace=True)\n",
    "df_cleaned_k6_ff4.fillna(0,inplace=True)\n",
    "df_cleaned_k7_ff4.fillna(0,inplace=True)"
   ]
  },
  {
   "cell_type": "markdown",
   "id": "c91c35e1-32cb-4207-825c-718edb62c514",
   "metadata": {},
   "source": [
    "### 2.3) Dummy Variables "
   ]
  },
  {
   "cell_type": "code",
   "execution_count": null,
   "id": "776616b4-a07d-4e49-8cc3-6b896c3d8b75",
   "metadata": {},
   "outputs": [],
   "source": []
  },
  {
   "cell_type": "markdown",
   "id": "8e73c501-711f-4c54-bf23-49fe6815e410",
   "metadata": {},
   "source": [
    "### 2.4) Combining Variables BRW"
   ]
  },
  {
   "cell_type": "code",
   "execution_count": 8,
   "id": "40bf8713-c21b-41eb-87d7-976327cd5116",
   "metadata": {},
   "outputs": [],
   "source": [
    "Y1_brw  = df_cleaned_k1_brw[\"K1\"]\n",
    "x1_brw = df_cleaned_k1_brw.iloc[:,3:]\n",
    "X1_brw = sm.add_constant(x1_brw)\n",
    "X1_brw = pd.concat([X1_brw[[\"const\", \"BRW\"]], X1_brw[control_variables]], axis=1)\n",
    "X1_brw_nc = X1_brw[[\"const\", \"BRW\"]]\n",
    "\n",
    "Y2_brw  = df_cleaned_k2_brw[\"K2\"]\n",
    "x2_brw = df_cleaned_k2_brw.iloc[:,3:]\n",
    "X2_brw = sm.add_constant(x2_brw)\n",
    "X2_brw = pd.concat([X2_brw[[\"const\", \"BRW\"]], X2_brw[control_variables]], axis=1)\n",
    "X2_brw_nc = X2_brw[[\"const\", \"BRW\"]]\n",
    "\n",
    "Y3_brw  = df_cleaned_k3_brw[\"K3\"]\n",
    "x3_brw = df_cleaned_k3_brw.iloc[:,3:]\n",
    "X3_brw = sm.add_constant(x3_brw)\n",
    "X3_brw = pd.concat([X3_brw[[\"const\", \"BRW\"]], X3_brw[control_variables]], axis=1)\n",
    "X3_brw_nc = X3_brw[[\"const\", \"BRW\"]]\n",
    "\n",
    "Y4_brw  = df_cleaned_k4_brw[\"K4\"]\n",
    "x4_brw = df_cleaned_k4_brw.iloc[:,3:]\n",
    "X4_brw = sm.add_constant(x4_brw)\n",
    "X4_brw = pd.concat([X4_brw[[\"const\", \"BRW\"]], X4_brw[control_variables]], axis=1)\n",
    "X4_brw_nc = X4_brw[[\"const\", \"BRW\"]]\n",
    "\n",
    "Y5_brw  = df_cleaned_k5_brw[\"K5\"]\n",
    "x5_brw = df_cleaned_k5_brw.iloc[:,3:]\n",
    "X5_brw = sm.add_constant(x5_brw)\n",
    "X5_brw = pd.concat([X5_brw[[\"const\", \"BRW\"]], X5_brw[control_variables]], axis=1)\n",
    "X5_brw_nc = X5_brw[[\"const\", \"BRW\"]]\n",
    "\n",
    "Y6_brw  = df_cleaned_k6_brw[\"K6\"]\n",
    "x6_brw = df_cleaned_k6_brw.iloc[:,3:]\n",
    "X6_brw = sm.add_constant(x6_brw)\n",
    "X6_brw = pd.concat([X6_brw[[\"const\", \"BRW\"]], X6_brw[control_variables]], axis=1)\n",
    "X6_brw_nc = X6_brw[[\"const\", \"BRW\"]]\n",
    "\n",
    "Y7_brw  = df_cleaned_k7_brw[\"K7\"]\n",
    "x7_brw = df_cleaned_k7_brw.iloc[:,3:]\n",
    "X7_brw = sm.add_constant(x7_brw)\n",
    "X7_brw = pd.concat([X7_brw[[\"const\", \"BRW\"]], X7_brw[control_variables]], axis=1)\n",
    "X7_brw_nc = X7_brw[[\"const\", \"BRW\"]]\n",
    "\n",
    "X_brw_h1 = [X1_brw, X2_brw, X3_brw, X4_brw , X5_brw, X6_brw, X7_brw ]\n",
    "X_brw_h1_nc = [X1_brw_nc, X2_brw_nc, X3_brw_nc, X4_brw_nc , X5_brw_nc, X6_brw_nc, X7_brw_nc ]\n",
    "Y_brw_h1 = [Y1_brw, Y2_brw, Y3_brw, Y4_brw, Y5_brw, Y6_brw, Y7_brw]"
   ]
  },
  {
   "cell_type": "markdown",
   "id": "282c7b11-080a-4c67-b9b7-16f86547467a",
   "metadata": {},
   "source": [
    "### 2.4) Combining Variables FF4"
   ]
  },
  {
   "cell_type": "code",
   "execution_count": 9,
   "id": "ba9a07ae-8072-4c93-b003-11d1a381dd19",
   "metadata": {},
   "outputs": [],
   "source": [
    "Y1_ff4  = df_cleaned_k1_ff4[\"K1\"]\n",
    "x1_ff4 = df_cleaned_k1_ff4.iloc[:,3:]\n",
    "X1_ff4 = sm.add_constant(x1_ff4)\n",
    "X1_ff4 = pd.concat([X1_ff4[[\"const\", \"FF4\"]], X1_ff4[control_variables]], axis=1)\n",
    "X1_ff4_nc = X1_ff4[[\"const\", \"FF4\"]]\n",
    "\n",
    "\n",
    "Y2_ff4  = df_cleaned_k2_ff4[\"K2\"]\n",
    "x2_ff4 = df_cleaned_k2_ff4.iloc[:,3:]\n",
    "X2_ff4 = sm.add_constant(x2_ff4)\n",
    "X2_ff4 = pd.concat([X2_ff4[[\"const\", \"FF4\"]], X2_ff4[control_variables]], axis=1)\n",
    "X2_ff4_nc = X2_ff4[[\"const\", \"FF4\"]]\n",
    "\n",
    "Y3_ff4  = df_cleaned_k3_ff4[\"K3\"]\n",
    "x3_ff4 = df_cleaned_k3_ff4.iloc[:,3:]\n",
    "X3_ff4 = sm.add_constant(x3_ff4)\n",
    "X3_ff4 = pd.concat([X3_ff4[[\"const\", \"FF4\"]], X3_ff4[control_variables]], axis=1)\n",
    "X3_ff4_nc = X3_ff4[[\"const\", \"FF4\"]]\n",
    "\n",
    "Y4_ff4  = df_cleaned_k4_ff4[\"K4\"]\n",
    "x4_ff4 = df_cleaned_k4_ff4.iloc[:,3:]\n",
    "X4_ff4 = sm.add_constant(x4_ff4)\n",
    "X4_ff4 = pd.concat([X4_ff4[[\"const\", \"FF4\"]], X4_ff4[control_variables]], axis=1)\n",
    "X4_ff4_nc = X4_ff4[[\"const\", \"FF4\"]]\n",
    "\n",
    "Y5_ff4  = df_cleaned_k5_ff4[\"K5\"]\n",
    "x5_ff4 = df_cleaned_k5_ff4.iloc[:,3:]\n",
    "X5_ff4 = sm.add_constant(x5_ff4)\n",
    "X5_ff4 = pd.concat([X5_ff4[[\"const\", \"FF4\"]], X5_ff4[control_variables]], axis=1)\n",
    "X5_ff4_nc = X5_ff4[[\"const\", \"FF4\"]]\n",
    "\n",
    "Y6_ff4  = df_cleaned_k6_ff4[\"K6\"]\n",
    "x6_ff4 = df_cleaned_k6_ff4.iloc[:,3:]\n",
    "X6_ff4 = sm.add_constant(x6_ff4)\n",
    "X6_ff4 = pd.concat([X6_ff4[[\"const\", \"FF4\"]], X6_ff4[control_variables]], axis=1)\n",
    "X6_ff4_nc = X6_ff4[[\"const\", \"FF4\"]]\n",
    "\n",
    "Y7_ff4  = df_cleaned_k7_ff4[\"K7\"]\n",
    "x7_ff4 = df_cleaned_k7_ff4.iloc[:,3:]\n",
    "X7_ff4 = sm.add_constant(x7_ff4)\n",
    "X7_ff4 = pd.concat([X7_ff4[[\"const\", \"FF4\"]], X7_ff4[control_variables]], axis=1)\n",
    "X7_ff4_nc = X7_ff4[[\"const\", \"FF4\"]]\n",
    "\n",
    "X_ff4_h1 = [X1_ff4, X2_ff4, X3_ff4, X4_ff4 , X5_ff4, X6_ff4, X7_ff4 ]\n",
    "X_ff4_h1_nc = [X1_ff4_nc, X2_ff4_nc, X3_ff4_nc, X4_ff4_nc , X5_ff4_nc, X6_ff4_nc, X7_ff4_nc ]\n",
    "Y_ff4_h1 = [Y1_ff4, Y2_ff4, Y3_ff4, Y4_ff4, Y5_ff4, Y6_ff4, Y7_ff4]"
   ]
  },
  {
   "cell_type": "markdown",
   "id": "d018f1f3-d469-452c-8fe2-d1c53a124934",
   "metadata": {},
   "source": [
    "## Chapter 3) Regression Analysis"
   ]
  },
  {
   "cell_type": "markdown",
   "id": "d04d7314-08df-4ee5-b9bf-b31a39bebc78",
   "metadata": {},
   "source": [
    "### 3.1) Hypothesis 1"
   ]
  },
  {
   "cell_type": "markdown",
   "id": "620477a4-5889-4133-8519-b95d5cb8628c",
   "metadata": {},
   "source": [
    "### BRW"
   ]
  },
  {
   "cell_type": "code",
   "execution_count": 10,
   "id": "b6535ed1-3e41-4dc9-ba44-e51014c20117",
   "metadata": {
    "scrolled": true
   },
   "outputs": [
    {
     "data": {
      "text/html": [
       "<div>\n",
       "<style scoped>\n",
       "    .dataframe tbody tr th:only-of-type {\n",
       "        vertical-align: middle;\n",
       "    }\n",
       "\n",
       "    .dataframe tbody tr th {\n",
       "        vertical-align: top;\n",
       "    }\n",
       "\n",
       "    .dataframe thead th {\n",
       "        text-align: right;\n",
       "    }\n",
       "</style>\n",
       "<table border=\"1\" class=\"dataframe\">\n",
       "  <thead>\n",
       "    <tr style=\"text-align: right;\">\n",
       "      <th></th>\n",
       "      <th>K1</th>\n",
       "      <th>K2</th>\n",
       "      <th>K3</th>\n",
       "      <th>K4</th>\n",
       "      <th>K5</th>\n",
       "      <th>K6</th>\n",
       "      <th>K7</th>\n",
       "    </tr>\n",
       "  </thead>\n",
       "  <tbody>\n",
       "    <tr>\n",
       "      <th>Coeff</th>\n",
       "      <td>0.0</td>\n",
       "      <td>0.0</td>\n",
       "      <td>0.0</td>\n",
       "      <td>0.0</td>\n",
       "      <td>0.0</td>\n",
       "      <td>0.0</td>\n",
       "      <td>0.0</td>\n",
       "    </tr>\n",
       "    <tr>\n",
       "      <th>95% conf Interval</th>\n",
       "      <td>0.0</td>\n",
       "      <td>0.0</td>\n",
       "      <td>0.0</td>\n",
       "      <td>0.0</td>\n",
       "      <td>0.0</td>\n",
       "      <td>0.0</td>\n",
       "      <td>0.0</td>\n",
       "    </tr>\n",
       "  </tbody>\n",
       "</table>\n",
       "</div>"
      ],
      "text/plain": [
       "                    K1   K2   K3   K4   K5   K6   K7\n",
       "Coeff              0.0  0.0  0.0  0.0  0.0  0.0  0.0\n",
       "95% conf Interval  0.0  0.0  0.0  0.0  0.0  0.0  0.0"
      ]
     },
     "execution_count": 10,
     "metadata": {},
     "output_type": "execute_result"
    }
   ],
   "source": [
    "H1_BRW_result_df_c = pd.DataFrame(np.zeros((2, 7)), columns=[\"K1\", \"K2\", \"K3\", \"K4\", \"K5\", \"K6\", \"K7\"])\n",
    "H1_BRW_result_df_c.index = [\"Coeff\", \"95% conf Interval\"]\n",
    "H1_BRW_result_df_c\n",
    "\n",
    "H1_BRW_result_df_nc = pd.DataFrame(np.zeros((2, 7)), columns=[\"K1\", \"K2\", \"K3\", \"K4\", \"K5\", \"K6\", \"K7\"])\n",
    "H1_BRW_result_df_nc.index = [\"Coeff\", \"95% conf Interval\"]\n",
    "H1_BRW_result_df_nc"
   ]
  },
  {
   "cell_type": "code",
   "execution_count": 11,
   "id": "814f353a-9dbb-4670-a9ec-4b443e166e47",
   "metadata": {},
   "outputs": [],
   "source": [
    "alpha = 0.05\n",
    "\n",
    "for i in range(len(X_brw_h1)):\n",
    "    X = X_brw_h1[i]\n",
    "    Y = Y_brw_h1[i]\n",
    " \n",
    "    result = sm.OLS(Y, X).fit()\n",
    "    coef = result.params[1]   \n",
    "    se = result.bse[1]\n",
    "    \n",
    "\n",
    "    # Compute confidence intervals\n",
    "    dof = result.df_resid  # Degrees of freedom\n",
    "    t_crit = stats.t.ppf(1 - alpha / 2, df=dof)  # Critical t-value\n",
    "\n",
    "    ci = t_crit * se\n",
    "    \n",
    "    H1_BRW_result_df_c.iloc[0,i] = coef\n",
    "    H1_BRW_result_df_c.iloc[1,i] = ci\n",
    "  \n",
    "\n",
    "alpha = 0.05\n",
    "\n",
    "for i in range(len(X_brw_h1_nc)):\n",
    "    X = X_brw_h1_nc[i]\n",
    "    Y = Y_brw_h1[i]\n",
    "    N = len(Y)\n",
    "    result = sm.OLS(Y, X).fit()\n",
    "    coef = result.params[1]   \n",
    "    se = result.bse[1]\n",
    "    \n",
    "\n",
    "    # Compute confidence intervals\n",
    "    dof = result.df_resid  # Degrees of freedom\n",
    "    t_crit = stats.t.ppf(1 - alpha / 2, df=dof)  # Critical t-value\n",
    "\n",
    "    ci = t_crit * se\n",
    "    \n",
    "    H1_BRW_result_df_nc.iloc[0,i] = coef\n",
    "    H1_BRW_result_df_nc.iloc[1,i] = ci\n",
    "\n",
    "\n"
   ]
  },
  {
   "cell_type": "markdown",
   "id": "8e5c96d3-9bdd-418e-93ee-91967ee66605",
   "metadata": {},
   "source": [
    "### FF4"
   ]
  },
  {
   "cell_type": "code",
   "execution_count": 12,
   "id": "47a22344-777c-423e-8d1a-b131a156823a",
   "metadata": {},
   "outputs": [
    {
     "data": {
      "text/html": [
       "<div>\n",
       "<style scoped>\n",
       "    .dataframe tbody tr th:only-of-type {\n",
       "        vertical-align: middle;\n",
       "    }\n",
       "\n",
       "    .dataframe tbody tr th {\n",
       "        vertical-align: top;\n",
       "    }\n",
       "\n",
       "    .dataframe thead th {\n",
       "        text-align: right;\n",
       "    }\n",
       "</style>\n",
       "<table border=\"1\" class=\"dataframe\">\n",
       "  <thead>\n",
       "    <tr style=\"text-align: right;\">\n",
       "      <th></th>\n",
       "      <th>K1</th>\n",
       "      <th>K2</th>\n",
       "      <th>K3</th>\n",
       "      <th>K4</th>\n",
       "      <th>K5</th>\n",
       "      <th>K6</th>\n",
       "      <th>K7</th>\n",
       "    </tr>\n",
       "  </thead>\n",
       "  <tbody>\n",
       "    <tr>\n",
       "      <th>Coeff</th>\n",
       "      <td>0.0</td>\n",
       "      <td>0.0</td>\n",
       "      <td>0.0</td>\n",
       "      <td>0.0</td>\n",
       "      <td>0.0</td>\n",
       "      <td>0.0</td>\n",
       "      <td>0.0</td>\n",
       "    </tr>\n",
       "    <tr>\n",
       "      <th>95% conf Interval</th>\n",
       "      <td>0.0</td>\n",
       "      <td>0.0</td>\n",
       "      <td>0.0</td>\n",
       "      <td>0.0</td>\n",
       "      <td>0.0</td>\n",
       "      <td>0.0</td>\n",
       "      <td>0.0</td>\n",
       "    </tr>\n",
       "  </tbody>\n",
       "</table>\n",
       "</div>"
      ],
      "text/plain": [
       "                    K1   K2   K3   K4   K5   K6   K7\n",
       "Coeff              0.0  0.0  0.0  0.0  0.0  0.0  0.0\n",
       "95% conf Interval  0.0  0.0  0.0  0.0  0.0  0.0  0.0"
      ]
     },
     "execution_count": 12,
     "metadata": {},
     "output_type": "execute_result"
    }
   ],
   "source": [
    "H1_FF4_result_df_c = pd.DataFrame(np.zeros((2, 7)), columns=[\"K1\", \"K2\", \"K3\", \"K4\", \"K5\", \"K6\", \"K7\"])\n",
    "H1_FF4_result_df_c.index = [\"Coeff\", \"95% conf Interval\"]\n",
    "H1_FF4_result_df_c\n",
    "\n",
    "H1_FF4_result_df_nc = pd.DataFrame(np.zeros((2, 7)), columns=[\"K1\", \"K2\", \"K3\", \"K4\", \"K5\", \"K6\", \"K7\"])\n",
    "H1_FF4_result_df_nc.index = [\"Coeff\", \"95% conf Interval\"]\n",
    "H1_FF4_result_df_nc"
   ]
  },
  {
   "cell_type": "code",
   "execution_count": 13,
   "id": "96d2d061-db49-4ffd-bba7-217ca0ac370d",
   "metadata": {},
   "outputs": [],
   "source": [
    "for i in range(len(X_ff4_h1)):\n",
    "    X = X_ff4_h1[i]\n",
    "    Y = Y_ff4_h1[i]\n",
    "    \n",
    "    result = sm.OLS(Y, X).fit()\n",
    "    coef = result.params[1]   \n",
    "    se = result.bse[1]\n",
    "    \n",
    "\n",
    "    # Compute confidence intervals\n",
    "    dof = result.df_resid  # Degrees of freedom\n",
    "    t_crit = stats.t.ppf(1 - alpha / 2, df=dof)  # Critical t-value\n",
    "\n",
    "\n",
    "    ci= t_crit * se\n",
    "    \n",
    "    H1_FF4_result_df_c.iloc[0,i] = coef\n",
    "    H1_FF4_result_df_c.iloc[1,i] = ci\n",
    "\n",
    "for i in range(len(X_ff4_h1_nc)):\n",
    "    X = X_ff4_h1_nc[i]\n",
    "    Y = Y_ff4_h1[i]\n",
    "    \n",
    "    result = sm.OLS(Y, X).fit()\n",
    "    coef = result.params[1]   \n",
    "    se = result.bse[1]\n",
    "    \n",
    "\n",
    "    # Compute confidence intervals\n",
    "    dof = result.df_resid  # Degrees of freedom\n",
    "    t_crit = stats.t.ppf(1 - alpha / 2, df=dof)  # Critical t-value\n",
    "\n",
    "\n",
    "    ci= t_crit * se\n",
    "    \n",
    "    H1_FF4_result_df_nc.iloc[0,i] = coef\n",
    "    H1_FF4_result_df_nc.iloc[1,i] = ci\n",
    "   "
   ]
  },
  {
   "cell_type": "markdown",
   "id": "3bd29f1c-7c78-4959-b619-c5e026d122d5",
   "metadata": {},
   "source": [
    "### Plotting Results with controll Variables"
   ]
  },
  {
   "cell_type": "code",
   "execution_count": 14,
   "id": "366d869a-4cf8-44b3-af60-555849838985",
   "metadata": {},
   "outputs": [
    {
     "data": {
      "image/png": "[encoded data removed]",
      "text/plain": [
       "<Figure size 1000x600 with 2 Axes>"
      ]
     },
     "metadata": {},
     "output_type": "display_data"
    }
   ],
   "source": [
    "# Simulated Data\n",
    "fig, axes = plt.subplots(1, 2, figsize=(10, 6))\n",
    "\n",
    "# Plot for Young Firms\n",
    "axes[0].errorbar(H1_BRW_result_df_c.columns, H1_BRW_result_df_c.loc[\"Coeff\"], yerr=H1_BRW_result_df_c.loc[ \"95% conf Interval\"], fmt='-o', color='red', ecolor='red', linestyle='solid', capsize=4)\n",
    "axes[0].axhline(0, color='gray', linestyle='dashed')\n",
    "axes[0].set_title(\"BRW\")\n",
    "axes[0].set_xlabel(\"Month Since Shock\")\n",
    "axes[0].set_ylabel(\"Level Change\")\n",
    "axes[0].grid()\n",
    "axes[0].set_ylim(-0.1,0.1) \n",
    "\n",
    "# Plot for Old Firms\n",
    "axes[1].errorbar(H1_FF4_result_df_c.columns, H1_FF4_result_df_c.loc[\"Coeff\"], yerr=H1_FF4_result_df_c.loc[\"95% conf Interval\"], fmt='-o', color='red', ecolor='red', linestyle='solid', capsize=4)\n",
    "axes[1].axhline(0, color='gray', linestyle='dashed')\n",
    "axes[1].set_title(\"FF4\")\n",
    "axes[1].set_xlabel(\"Month Since Shock\")\n",
    "axes[1].set_ylabel(\"Level Change\")\n",
    "axes[1].grid()\n",
    "axes[1].set_ylim(-0.1,0.1) \n",
    "\n",
    "# Formatting the frames\n",
    "for ax in axes:\n",
    "    ax.spines['top'].set_visible(False)\n",
    "    ax.spines['right'].set_visible(False)\n",
    "    ax.spines['left'].set_linewidth(1.2)\n",
    "    ax.spines['bottom'].set_linewidth(1.2)\n",
    "\n",
    "\n",
    "plt.tight_layout()\n",
    "plt.show()\n"
   ]
  },
  {
   "cell_type": "markdown",
   "id": "2ac6fc66-1f77-4af1-bf11-25b02d518502",
   "metadata": {},
   "source": [
    "### Plotting Results without controll Variables"
   ]
  },
  {
   "cell_type": "code",
   "execution_count": 15,
   "id": "7bc03137-1a76-4a5f-b7d5-188ab6990be1",
   "metadata": {},
   "outputs": [
    {
     "data": {
      "image/png": "[encoded data removed]",
      "text/plain": [
       "<Figure size 1000x600 with 2 Axes>"
      ]
     },
     "metadata": {},
     "output_type": "display_data"
    }
   ],
   "source": [
    "# Simulated Data\n",
    "fig, axes = plt.subplots(1, 2, figsize=(10, 6))\n",
    "\n",
    "# Plot for Young Firms\n",
    "axes[0].errorbar(H1_BRW_result_df_nc.columns, H1_BRW_result_df_nc.loc[\"Coeff\"], yerr=H1_BRW_result_df_nc.loc[ \"95% conf Interval\"], fmt='-o', color='red', ecolor='red', linestyle='solid', capsize=4)\n",
    "axes[0].axhline(0, color='gray', linestyle='dashed')\n",
    "axes[0].set_title(\"BRW\")\n",
    "axes[0].set_xlabel(\"Month Since Shock\")\n",
    "axes[0].set_ylabel(\"Level Change\")\n",
    "axes[0].grid()\n",
    "axes[0].set_ylim(-0.15,0.15) \n",
    "\n",
    "# Plot for Old Firms\n",
    "axes[1].errorbar(H1_FF4_result_df_nc.columns, H1_FF4_result_df_nc.loc[\"Coeff\"], yerr=H1_FF4_result_df_nc.loc[\"95% conf Interval\"], fmt='-o', color='red', ecolor='red', linestyle='solid', capsize=4)\n",
    "axes[1].axhline(0, color='gray', linestyle='dashed')\n",
    "axes[1].set_title(\"FF4\")\n",
    "axes[1].set_xlabel(\"Month Since Shock\")\n",
    "axes[1].set_ylabel(\"Level Change\")\n",
    "axes[1].grid()\n",
    "axes[1].set_ylim(-0.15,0.15)\n",
    "\n",
    "# Formatting the frames\n",
    "for ax in axes:\n",
    "    ax.spines['top'].set_visible(False)\n",
    "    ax.spines['right'].set_visible(False)\n",
    "    ax.spines['left'].set_linewidth(1.2)\n",
    "    ax.spines['bottom'].set_linewidth(1.2)\n",
    "\n",
    "\n",
    "plt.tight_layout()\n",
    "plt.savefig(\"Data/Pictures/H1_nc.png\")\n",
    "plt.show()\n"
   ]
  },
  {
   "cell_type": "markdown",
   "id": "029b35fd-5af1-4f88-b827-281d1ba352f1",
   "metadata": {},
   "source": [
    "### 3.2) Hypothesis 8"
   ]
  },
  {
   "cell_type": "markdown",
   "id": "705abb2e-0ebf-444e-a348-b04cff766f7a",
   "metadata": {},
   "source": [
    "#### Isolating Oil and Gas Firms"
   ]
  },
  {
   "cell_type": "code",
   "execution_count": 16,
   "id": "a70a2c2a-3b72-4d25-9306-8365784244d9",
   "metadata": {},
   "outputs": [],
   "source": [
    "df_OG_brw_k1 = df_cleaned_k1_brw.loc[df_cleaned_k1_brw[\"Industry\"].isin([\"Energy\"])]\n",
    "df_OG_brw_k2 = df_cleaned_k2_brw.loc[df_cleaned_k2_brw[\"Industry\"].isin([\"Energy\"])]\n",
    "df_OG_brw_k3 = df_cleaned_k3_brw.loc[df_cleaned_k3_brw[\"Industry\"].isin([\"Energy\"])]\n",
    "df_OG_brw_k4 = df_cleaned_k4_brw.loc[df_cleaned_k4_brw[\"Industry\"].isin([\"Energy\"])]\n",
    "df_OG_brw_k5 = df_cleaned_k5_brw.loc[df_cleaned_k5_brw[\"Industry\"].isin([\"Energy\"])]\n",
    "df_OG_brw_k6 = df_cleaned_k6_brw.loc[df_cleaned_k6_brw[\"Industry\"].isin([\"Energy\"])]\n",
    "df_OG_brw_k7 = df_cleaned_k7_brw.loc[df_cleaned_k7_brw[\"Industry\"].isin([\"Energy\"])]\n",
    "\n",
    "\n",
    "df_OG_ff4_k1 = df_cleaned_k1_ff4.loc[df_cleaned_k1_ff4[\"Industry\"].isin([\"Energy\"])]\n",
    "df_OG_ff4_k2 = df_cleaned_k2_ff4.loc[df_cleaned_k2_ff4[\"Industry\"].isin([\"Energy\"])]\n",
    "df_OG_ff4_k3 = df_cleaned_k3_ff4.loc[df_cleaned_k3_ff4[\"Industry\"].isin([\"Energy\"])]\n",
    "df_OG_ff4_k4 = df_cleaned_k4_ff4.loc[df_cleaned_k4_ff4[\"Industry\"].isin([\"Energy\"])]\n",
    "df_OG_ff4_k5 = df_cleaned_k5_ff4.loc[df_cleaned_k5_ff4[\"Industry\"].isin([\"Energy\"])]\n",
    "df_OG_ff4_k6 = df_cleaned_k6_ff4.loc[df_cleaned_k6_ff4[\"Industry\"].isin([\"Energy\"])]\n",
    "df_OG_ff4_k7 = df_cleaned_k7_ff4.loc[df_cleaned_k7_ff4[\"Industry\"].isin([\"Energy\"])]\n"
   ]
  },
  {
   "cell_type": "markdown",
   "id": "2759ce76-b39d-456e-b95c-383483011732",
   "metadata": {},
   "source": [
    "#### Identifying Variables - BRW"
   ]
  },
  {
   "cell_type": "code",
   "execution_count": 17,
   "id": "f0acadb6-75c4-4793-88a3-043153af0713",
   "metadata": {},
   "outputs": [],
   "source": [
    "Y1_brw_OG  = df_OG_brw_k1[\"K1\"]\n",
    "x1_brw_OG = sm.add_constant(df_OG_brw_k1)\n",
    "X1_brw_OG = pd.concat([x1_brw_OG[[\"const\", \"BRW\"]], x1_brw_OG[control_variables]], axis=1)\n",
    "X1_brw_OG_nc = x1_brw_OG[[\"const\", \"BRW\"]]\n",
    "\n",
    "Y2_brw_OG  = df_OG_brw_k2[\"K2\"]\n",
    "x2_brw_OG = sm.add_constant(df_OG_brw_k2)\n",
    "X2_brw_OG = pd.concat([x2_brw_OG[[\"const\", \"BRW\"]], x2_brw_OG[control_variables]], axis=1)\n",
    "X2_brw_OG_nc = x2_brw_OG[[\"const\", \"BRW\"]]\n",
    "\n",
    "Y3_brw_OG  = df_OG_brw_k3[\"K3\"]\n",
    "x3_brw_OG = sm.add_constant(df_OG_brw_k3)\n",
    "X3_brw_OG = pd.concat([x3_brw_OG[[\"const\", \"BRW\"]], x3_brw_OG[control_variables]], axis=1)\n",
    "X3_brw_OG_nc = x3_brw_OG[[\"const\", \"BRW\"]]\n",
    "\n",
    "Y4_brw_OG  = df_OG_brw_k4[\"K4\"]\n",
    "x4_brw_OG = sm.add_constant(df_OG_brw_k4)\n",
    "X4_brw_OG = pd.concat([x4_brw_OG[[\"const\", \"BRW\"]], x4_brw_OG[control_variables]], axis=1)\n",
    "X4_brw_OG_nc = x4_brw_OG[[\"const\", \"BRW\"]]\n",
    "\n",
    "Y5_brw_OG  = df_OG_brw_k5[\"K5\"]\n",
    "x5_brw_OG = sm.add_constant(df_OG_brw_k5)\n",
    "X5_brw_OG = pd.concat([x5_brw_OG[[\"const\", \"BRW\"]], x5_brw_OG[control_variables]], axis=1)\n",
    "X5_brw_OG_nc = x5_brw_OG[[\"const\", \"BRW\"]]\n",
    "\n",
    "Y6_brw_OG  = df_OG_brw_k6[\"K6\"]\n",
    "x6_brw_OG = sm.add_constant(df_OG_brw_k6)\n",
    "X6_brw_OG = pd.concat([x6_brw_OG[[\"const\", \"BRW\"]], x6_brw_OG[control_variables]], axis=1)\n",
    "X6_brw_OG_nc = x6_brw_OG[[\"const\", \"BRW\"]]\n",
    "\n",
    "Y7_brw_OG  = df_OG_brw_k7[\"K7\"]\n",
    "x7_brw_OG = sm.add_constant(df_OG_brw_k7)\n",
    "X7_brw_OG = pd.concat([x7_brw_OG[[\"const\", \"BRW\"]], x7_brw_OG[control_variables]], axis=1)\n",
    "X7_brw_OG_nc = x7_brw_OG[[\"const\", \"BRW\"]]\n",
    "\n",
    "X_brw_h8 = [X1_brw_OG, X2_brw_OG, X3_brw_OG, X4_brw_OG , X5_brw_OG, X6_brw_OG, X7_brw_OG ]\n",
    "X_brw_h8_nc = [X1_brw_OG_nc, X2_brw_OG_nc, X3_brw_OG_nc, X4_brw_OG_nc , X5_brw_OG_nc, X6_brw_OG_nc, X7_brw_OG_nc ]\n",
    "Y_brw_h8 = [Y1_brw_OG, Y2_brw_OG, Y3_brw_OG, Y4_brw_OG, Y5_brw_OG, Y6_brw_OG, Y7_brw_OG]"
   ]
  },
  {
   "cell_type": "markdown",
   "id": "12a6831f-8b42-494a-b199-1a5d584f9b19",
   "metadata": {},
   "source": [
    "#### Identifying Variables - FF4"
   ]
  },
  {
   "cell_type": "code",
   "execution_count": 18,
   "id": "9b16f92b-781c-4964-b34d-db66a746927f",
   "metadata": {},
   "outputs": [],
   "source": [
    "Y1_ff4_OG  = df_OG_ff4_k1[\"K1\"]\n",
    "x1_ff4_OG = sm.add_constant(df_OG_ff4_k1)\n",
    "X1_ff4_OG = pd.concat([x1_ff4_OG[[\"const\", \"FF4\"]], x1_ff4_OG[control_variables]], axis=1)\n",
    "X1_ff4_OG_nc = x1_ff4_OG[[\"const\", \"FF4\"]]\n",
    "\n",
    "Y2_ff4_OG  = df_OG_ff4_k2[\"K2\"]\n",
    "x2_ff4_OG = sm.add_constant(df_OG_ff4_k2)\n",
    "X2_ff4_OG = pd.concat([x2_ff4_OG[[\"const\", \"FF4\"]], x2_ff4_OG[control_variables]], axis=1)\n",
    "X2_ff4_OG_nc = x2_ff4_OG[[\"const\", \"FF4\"]]\n",
    "\n",
    "Y3_ff4_OG  = df_OG_ff4_k3[\"K3\"]\n",
    "x3_ff4_OG = sm.add_constant(df_OG_ff4_k3)\n",
    "X3_ff4_OG = pd.concat([x3_ff4_OG[[\"const\", \"FF4\"]], x3_ff4_OG[control_variables]], axis=1)\n",
    "X3_ff4_OG_nc = x3_ff4_OG[[\"const\", \"FF4\"]]\n",
    "\n",
    "Y4_ff4_OG  = df_OG_ff4_k4[\"K4\"]\n",
    "x4_ff4_OG = sm.add_constant(df_OG_ff4_k4)\n",
    "X4_ff4_OG = pd.concat([x4_ff4_OG[[\"const\", \"FF4\"]], x4_ff4_OG[control_variables]], axis=1)\n",
    "X4_ff4_OG_nc = x4_ff4_OG[[\"const\", \"FF4\"]]\n",
    "\n",
    "Y5_ff4_OG  = df_OG_ff4_k5[\"K5\"]\n",
    "x5_ff4_OG = sm.add_constant(df_OG_ff4_k5)\n",
    "X5_ff4_OG = pd.concat([x5_ff4_OG[[\"const\", \"FF4\"]], x5_ff4_OG[control_variables]], axis=1)\n",
    "X5_ff4_OG_nc = x5_ff4_OG[[\"const\", \"FF4\"]]\n",
    "\n",
    "Y6_ff4_OG  = df_OG_ff4_k6[\"K6\"]\n",
    "x6_ff4_OG = sm.add_constant(df_OG_ff4_k6)\n",
    "X6_ff4_OG = pd.concat([x6_ff4_OG[[\"const\", \"FF4\"]], x6_ff4_OG[control_variables]], axis=1)\n",
    "X6_ff4_OG_nc = x6_ff4_OG[[\"const\", \"FF4\"]]\n",
    "\n",
    "Y7_ff4_OG  = df_OG_ff4_k7[\"K7\"]\n",
    "x7_ff4_OG = sm.add_constant(df_OG_ff4_k7)\n",
    "X7_ff4_OG = pd.concat([x7_ff4_OG[[\"const\", \"FF4\"]], x7_ff4_OG[control_variables]], axis=1)\n",
    "X7_ff4_OG_nc = x7_ff4_OG[[\"const\", \"FF4\"]]\n",
    "\n",
    "X_ff4_h8 = [X1_ff4_OG, X2_ff4_OG, X3_ff4_OG, X4_ff4_OG , X5_ff4_OG, X6_ff4_OG, X7_ff4_OG ]\n",
    "X_ff4_h8_nc = [X1_ff4_OG_nc, X2_ff4_OG_nc, X3_ff4_OG_nc, X4_ff4_OG_nc , X5_ff4_OG_nc, X6_ff4_OG_nc, X7_ff4_OG_nc ]\n",
    "Y_ff4_h8 = [Y1_ff4_OG, Y2_ff4_OG, Y3_ff4_OG, Y4_ff4_OG, Y5_ff4_OG, Y6_ff4_OG, Y7_ff4_OG]"
   ]
  },
  {
   "cell_type": "markdown",
   "id": "6a98b7e5-64c5-4a82-ad2f-2a38320c52ab",
   "metadata": {},
   "source": [
    "### Analysis - BRW"
   ]
  },
  {
   "cell_type": "code",
   "execution_count": 19,
   "id": "765cb1ef-34de-4cac-99dc-fd3c72405a76",
   "metadata": {
    "scrolled": true
   },
   "outputs": [
    {
     "data": {
      "text/html": [
       "<div>\n",
       "<style scoped>\n",
       "    .dataframe tbody tr th:only-of-type {\n",
       "        vertical-align: middle;\n",
       "    }\n",
       "\n",
       "    .dataframe tbody tr th {\n",
       "        vertical-align: top;\n",
       "    }\n",
       "\n",
       "    .dataframe thead th {\n",
       "        text-align: right;\n",
       "    }\n",
       "</style>\n",
       "<table border=\"1\" class=\"dataframe\">\n",
       "  <thead>\n",
       "    <tr style=\"text-align: right;\">\n",
       "      <th></th>\n",
       "      <th>K1</th>\n",
       "      <th>K2</th>\n",
       "      <th>K3</th>\n",
       "      <th>K4</th>\n",
       "      <th>K5</th>\n",
       "      <th>K6</th>\n",
       "      <th>K7</th>\n",
       "    </tr>\n",
       "  </thead>\n",
       "  <tbody>\n",
       "    <tr>\n",
       "      <th>Coeff</th>\n",
       "      <td>0.0</td>\n",
       "      <td>0.0</td>\n",
       "      <td>0.0</td>\n",
       "      <td>0.0</td>\n",
       "      <td>0.0</td>\n",
       "      <td>0.0</td>\n",
       "      <td>0.0</td>\n",
       "    </tr>\n",
       "    <tr>\n",
       "      <th>95% conf Interval</th>\n",
       "      <td>0.0</td>\n",
       "      <td>0.0</td>\n",
       "      <td>0.0</td>\n",
       "      <td>0.0</td>\n",
       "      <td>0.0</td>\n",
       "      <td>0.0</td>\n",
       "      <td>0.0</td>\n",
       "    </tr>\n",
       "  </tbody>\n",
       "</table>\n",
       "</div>"
      ],
      "text/plain": [
       "                    K1   K2   K3   K4   K5   K6   K7\n",
       "Coeff              0.0  0.0  0.0  0.0  0.0  0.0  0.0\n",
       "95% conf Interval  0.0  0.0  0.0  0.0  0.0  0.0  0.0"
      ]
     },
     "execution_count": 19,
     "metadata": {},
     "output_type": "execute_result"
    }
   ],
   "source": [
    "H8_BRW_result_df_c = pd.DataFrame(np.zeros((2, 7)), columns=[\"K1\", \"K2\", \"K3\", \"K4\", \"K5\", \"K6\", \"K7\"])\n",
    "H8_BRW_result_df_c.index = [\"Coeff\", \"95% conf Interval\"]\n",
    "H8_BRW_result_df_c\n",
    "\n",
    "H8_BRW_result_df_nc = pd.DataFrame(np.zeros((2, 7)), columns=[\"K1\", \"K2\", \"K3\", \"K4\", \"K5\", \"K6\", \"K7\"])\n",
    "H8_BRW_result_df_nc.index = [\"Coeff\", \"95% conf Interval\"]\n",
    "H8_BRW_result_df_nc"
   ]
  },
  {
   "cell_type": "code",
   "execution_count": 20,
   "id": "653fc328-b934-4ee1-8cb9-3c686e2ae895",
   "metadata": {},
   "outputs": [],
   "source": [
    "for i in range(len(X_brw_h8)):\n",
    "    X = X_brw_h8[i]\n",
    "    Y = Y_brw_h8[i]\n",
    " \n",
    "    result = sm.OLS(Y, X).fit()\n",
    "    coef = result.params[1]   \n",
    "    se = result.bse[1]\n",
    "    \n",
    "\n",
    "    # Compute confidence intervals\n",
    "    dof = result.df_resid  # Degrees of freedom\n",
    "    t_crit = stats.t.ppf(1 - alpha / 2, df=dof)  # Critical t-value\n",
    "\n",
    "    ci = t_crit * se\n",
    "    \n",
    "    H8_BRW_result_df_c.iloc[0,i] = coef\n",
    "    H8_BRW_result_df_c.iloc[1,i] = ci\n",
    "\n",
    "for i in range(len(X_brw_h8_nc)):\n",
    "    X = X_brw_h8_nc[i]\n",
    "    Y = Y_brw_h8[i]\n",
    " \n",
    "    result = sm.OLS(Y, X).fit()\n",
    "    coef = result.params[1]   \n",
    "    se = result.bse[1]\n",
    "    \n",
    "\n",
    "    # Compute confidence intervals\n",
    "    dof = result.df_resid  # Degrees of freedom\n",
    "    t_crit = stats.t.ppf(1 - alpha / 2, df=dof)  # Critical t-value\n",
    "\n",
    "    ci = t_crit * se\n",
    "    \n",
    "    H8_BRW_result_df_nc.iloc[0,i] = coef\n",
    "    H8_BRW_result_df_nc.iloc[1,i] = ci\n",
    "\n",
    "\n",
    "\n",
    "\n"
   ]
  },
  {
   "cell_type": "markdown",
   "id": "d0a309af-f47c-4b4e-b899-41b24640fc86",
   "metadata": {},
   "source": [
    "### FF4"
   ]
  },
  {
   "cell_type": "code",
   "execution_count": 21,
   "id": "db991303-49a2-4f35-af4b-8976e77c39e0",
   "metadata": {},
   "outputs": [
    {
     "data": {
      "text/html": [
       "<div>\n",
       "<style scoped>\n",
       "    .dataframe tbody tr th:only-of-type {\n",
       "        vertical-align: middle;\n",
       "    }\n",
       "\n",
       "    .dataframe tbody tr th {\n",
       "        vertical-align: top;\n",
       "    }\n",
       "\n",
       "    .dataframe thead th {\n",
       "        text-align: right;\n",
       "    }\n",
       "</style>\n",
       "<table border=\"1\" class=\"dataframe\">\n",
       "  <thead>\n",
       "    <tr style=\"text-align: right;\">\n",
       "      <th></th>\n",
       "      <th>K1</th>\n",
       "      <th>K2</th>\n",
       "      <th>K3</th>\n",
       "      <th>K4</th>\n",
       "      <th>K5</th>\n",
       "      <th>K6</th>\n",
       "      <th>K7</th>\n",
       "    </tr>\n",
       "  </thead>\n",
       "  <tbody>\n",
       "    <tr>\n",
       "      <th>Coeff</th>\n",
       "      <td>0.0</td>\n",
       "      <td>0.0</td>\n",
       "      <td>0.0</td>\n",
       "      <td>0.0</td>\n",
       "      <td>0.0</td>\n",
       "      <td>0.0</td>\n",
       "      <td>0.0</td>\n",
       "    </tr>\n",
       "    <tr>\n",
       "      <th>95% conf Interval</th>\n",
       "      <td>0.0</td>\n",
       "      <td>0.0</td>\n",
       "      <td>0.0</td>\n",
       "      <td>0.0</td>\n",
       "      <td>0.0</td>\n",
       "      <td>0.0</td>\n",
       "      <td>0.0</td>\n",
       "    </tr>\n",
       "  </tbody>\n",
       "</table>\n",
       "</div>"
      ],
      "text/plain": [
       "                    K1   K2   K3   K4   K5   K6   K7\n",
       "Coeff              0.0  0.0  0.0  0.0  0.0  0.0  0.0\n",
       "95% conf Interval  0.0  0.0  0.0  0.0  0.0  0.0  0.0"
      ]
     },
     "execution_count": 21,
     "metadata": {},
     "output_type": "execute_result"
    }
   ],
   "source": [
    "H8_FF4_result_df_c = pd.DataFrame(np.zeros((2, 7)), columns=[\"K1\", \"K2\", \"K3\", \"K4\", \"K5\", \"K6\", \"K7\"])\n",
    "H8_FF4_result_df_c.index = [\"Coeff\", \"95% conf Interval\"]\n",
    "H8_FF4_result_df_c\n",
    "\n",
    "H8_FF4_result_df_nc = pd.DataFrame(np.zeros((2, 7)), columns=[\"K1\", \"K2\", \"K3\", \"K4\", \"K5\", \"K6\", \"K7\"])\n",
    "H8_FF4_result_df_nc.index = [\"Coeff\", \"95% conf Interval\"]\n",
    "H8_FF4_result_df_nc"
   ]
  },
  {
   "cell_type": "code",
   "execution_count": 22,
   "id": "c64dfeae-b946-4ee9-a92f-720874c92df0",
   "metadata": {},
   "outputs": [],
   "source": [
    "for i in range(len(X_ff4_h8)):\n",
    "    X = X_ff4_h8[i]\n",
    "    Y = Y_ff4_h8[i]\n",
    "  \n",
    "    result = sm.OLS(Y, X).fit()\n",
    "    coef = result.params[1]   \n",
    "    se = result.bse[1]\n",
    "    \n",
    "\n",
    "    # Compute confidence intervals\n",
    "    dof = result.df_resid  # Degrees of freedom\n",
    "    t_crit = stats.t.ppf(1 - alpha / 2, df=dof)  # Critical t-value\n",
    "\n",
    "\n",
    "    ci= t_crit * se\n",
    "    \n",
    "    H8_FF4_result_df_c.iloc[0,i] = coef\n",
    "    H8_FF4_result_df_c.iloc[1,i] = ci\n",
    "\n",
    "\n",
    "for i in range(len(X_ff4_h8_nc)):\n",
    "    X = X_ff4_h8_nc[i]\n",
    "    Y = Y_ff4_h8[i]\n",
    "  \n",
    "    result = sm.OLS(Y, X).fit()\n",
    "    coef = result.params[1]   \n",
    "    se = result.bse[1]\n",
    "    \n",
    "\n",
    "    # Compute confidence intervals\n",
    "    dof = result.df_resid  # Degrees of freedom\n",
    "    t_crit = stats.t.ppf(1 - alpha / 2, df=dof)  # Critical t-value\n",
    "\n",
    "\n",
    "    ci= t_crit * se\n",
    "    \n",
    "    H8_FF4_result_df_nc.iloc[0,i] = coef\n",
    "    H8_FF4_result_df_nc.iloc[1,i] = ci\n",
    "   "
   ]
  },
  {
   "cell_type": "markdown",
   "id": "85aa91c8-855e-423f-b6e0-1a7f7c367b75",
   "metadata": {},
   "source": [
    "### Plotting Results with controll variables"
   ]
  },
  {
   "cell_type": "code",
   "execution_count": 23,
   "id": "6b69b65c-43f6-4dee-9482-0e5ef453d0c4",
   "metadata": {},
   "outputs": [
    {
     "data": {
      "image/png": "[encoded data removed]",
      "text/plain": [
       "<Figure size 1000x600 with 2 Axes>"
      ]
     },
     "metadata": {},
     "output_type": "display_data"
    }
   ],
   "source": [
    "# Simulated Data\n",
    "fig, axes = plt.subplots(1, 2, figsize=(10, 6))\n",
    "\n",
    "# Plot for Young Firms\n",
    "axes[0].errorbar(H8_BRW_result_df_c.columns, H8_BRW_result_df_c.loc[\"Coeff\"], yerr=H8_BRW_result_df_c.loc[ \"95% conf Interval\"], fmt='-o', color='red', ecolor='red', linestyle='solid', capsize=4)\n",
    "axes[0].errorbar(H1_BRW_result_df_c.columns, H1_BRW_result_df_c.loc[\"Coeff\"], yerr=H1_BRW_result_df_c.loc[ \"95% conf Interval\"], fmt='-o', color='blue', ecolor='blue', linestyle='solid', capsize=4)\n",
    "axes[0].axhline(0, color='gray', linestyle='dashed')\n",
    "axes[0].set_title(\"BRW\")\n",
    "axes[0].set_xlabel(\"Month Since Shock\")\n",
    "axes[0].set_ylabel(\"Level Change\")\n",
    "axes[0].grid()\n",
    "axes[0].set_ylim(-0.15,0.15)\n",
    "\n",
    "# Plot for Old Firms\n",
    "axes[1].errorbar(H8_FF4_result_df_c.columns, H8_FF4_result_df_c.loc[\"Coeff\"], yerr=H8_FF4_result_df_c.loc[\"95% conf Interval\"], fmt='-o', color='red', ecolor='red', linestyle='solid', capsize=4)\n",
    "axes[1].errorbar(H1_FF4_result_df_c.columns, H1_FF4_result_df_c.loc[\"Coeff\"], yerr=H1_FF4_result_df_c.loc[\"95% conf Interval\"], fmt='-o', color='blue', ecolor='blue', linestyle='solid', capsize=4)\n",
    "axes[1].axhline(0, color='gray', linestyle='dashed')\n",
    "axes[1].set_title(\"FF4\")\n",
    "axes[1].set_xlabel(\"Month Since Shock\")\n",
    "axes[1].set_ylabel(\"Level Change\")\n",
    "axes[1].grid()\n",
    "axes[1].set_ylim(-0.15,0.15)\n",
    "\n",
    "# Formatting the frames\n",
    "for ax in axes:\n",
    "    ax.spines['top'].set_visible(False)\n",
    "    ax.spines['right'].set_visible(False)\n",
    "    ax.spines['left'].set_linewidth(1.2)\n",
    "    ax.spines['bottom'].set_linewidth(1.2)\n",
    "\n",
    "\n",
    "\n",
    "plt.tight_layout()\n",
    "plt.show()\n"
   ]
  },
  {
   "cell_type": "markdown",
   "id": "224423e6-7992-427d-a2a2-fcce93d37236",
   "metadata": {},
   "source": [
    "### Plotting Results without controll variables"
   ]
  },
  {
   "cell_type": "code",
   "execution_count": 24,
   "id": "99480478-4848-417e-8a16-2a7ff6f5dea2",
   "metadata": {},
   "outputs": [
    {
     "data": {
      "image/png": "[encoded data removed]",
      "text/plain": [
       "<Figure size 1000x600 with 2 Axes>"
      ]
     },
     "metadata": {},
     "output_type": "display_data"
    }
   ],
   "source": [
    "# Simulated Data\n",
    "fig, axes = plt.subplots(1, 2, figsize=(10, 6))\n",
    "\n",
    "# Plot for Young Firms\n",
    "axes[0].errorbar(H8_BRW_result_df_nc.columns, H8_BRW_result_df_nc.loc[\"Coeff\"], yerr=H8_BRW_result_df_nc.loc[ \"95% conf Interval\"], fmt='-o', color='red', ecolor='red', linestyle='solid', capsize=4)\n",
    "axes[0].errorbar(H1_BRW_result_df_nc.columns, H1_BRW_result_df_nc.loc[\"Coeff\"], yerr=H1_BRW_result_df_nc.loc[ \"95% conf Interval\"], fmt='-o', color='blue', ecolor='blue', linestyle='solid', capsize=4)\n",
    "axes[0].axhline(0, color='gray', linestyle='dashed')\n",
    "axes[0].set_title(\"BRW\")\n",
    "axes[0].set_xlabel(\"Month Since Shock\")\n",
    "axes[0].set_ylabel(\"Level Change\")\n",
    "axes[0].grid()\n",
    "axes[0].set_ylim(-0.15,0.15) \n",
    "\n",
    "# Plot for Old Firms\n",
    "axes[1].errorbar(H8_FF4_result_df_nc.columns, H8_FF4_result_df_nc.loc[\"Coeff\"], yerr=H8_FF4_result_df_nc.loc[\"95% conf Interval\"], fmt='-o', color='red', ecolor='red', linestyle='solid', capsize=4)\n",
    "axes[1].errorbar(H1_FF4_result_df_nc.columns, H1_FF4_result_df_nc.loc[\"Coeff\"], yerr=H1_FF4_result_df_nc.loc[\"95% conf Interval\"], fmt='-o', color='blue', ecolor='blue', linestyle='solid', capsize=4)\n",
    "axes[1].axhline(0, color='gray', linestyle='dashed')\n",
    "axes[1].set_title(\"FF4\")\n",
    "axes[1].set_xlabel(\"Month Since Shock\")\n",
    "axes[1].set_ylabel(\"Level Change\")\n",
    "axes[1].grid()\n",
    "axes[1].set_ylim(-0.15,0.15)\n",
    "\n",
    "# Formatting the frames\n",
    "for ax in axes:\n",
    "    ax.spines['top'].set_visible(False)\n",
    "    ax.spines['right'].set_visible(False)\n",
    "    ax.spines['left'].set_linewidth(1.2)\n",
    "    ax.spines['bottom'].set_linewidth(1.2)\n",
    "\n",
    "\n",
    "\n",
    "plt.tight_layout()\n",
    "plt.savefig(\"Data/Pictures/H8_nc.png\")\n",
    "plt.show()\n"
   ]
  },
  {
   "cell_type": "markdown",
   "id": "e3141199-d0bb-4286-9a44-2d03ae91e4b3",
   "metadata": {},
   "source": [
    "### 3.3) Hypothesis 7"
   ]
  },
  {
   "cell_type": "code",
   "execution_count": 60,
   "id": "a579d228-e8fd-4ac2-8efa-9fb07891152c",
   "metadata": {},
   "outputs": [],
   "source": [
    "### BRW\n",
    "\n",
    "df_cleaned_k1_brw_b = df_b.drop([\"K2\",\t\"K3\",\t\"K4\"\t,\"K5\",\t\"K6\",\t\"K7\",\"FF4\"],axis=1)\n",
    "df_cleaned_k1_brw_b.dropna(subset=['K1'],inplace=True)\n",
    "\n",
    "df_cleaned_k2_brw_b = df_b.drop([\"K1\",\t\"K3\",\t\"K4\"\t,\"K5\",\t\"K6\",\t\"K7\",\"FF4\"],axis=1)\n",
    "df_cleaned_k2_brw_b.dropna(subset=['K2'],inplace=True)\n",
    "\n",
    "df_cleaned_k3_brw_b = df_b.drop([\"K1\",\t\"K2\",\t\"K4\"\t,\"K5\",\t\"K6\",\t\"K7\",\"FF4\"],axis=1)\n",
    "df_cleaned_k3_brw_b.dropna(subset=['K3'],inplace=True)\n",
    "\n",
    "df_cleaned_k4_brw_b = df_b.drop([\"K1\",\t\"K2\",\t\"K3\"\t,\"K5\",\t\"K6\",\t\"K7\",\"FF4\"],axis=1)\n",
    "df_cleaned_k4_brw_b.dropna(subset=['K4'],inplace=True)\n",
    "\n",
    "df_cleaned_k5_brw_b = df_b.drop([\"K1\",\t\"K2\",\t\"K3\"\t,\"K4\",\t\"K6\",\t\"K7\",\"FF4\"],axis=1)\n",
    "df_cleaned_k5_brw_b.dropna(subset=['K5'],inplace=True)\n",
    "\n",
    "df_cleaned_k6_brw_b = df_b.drop([\"K1\",\t\"K2\",\t\"K3\"\t,\"K4\",\t\"K5\",\t\"K7\",\"FF4\"],axis=1)\n",
    "df_cleaned_k6_brw_b.dropna(subset=['K6'],inplace=True)\n",
    "\n",
    "df_cleaned_k7_brw_b = df_b.drop([\"K1\",\t\"K2\",\t\"K3\"\t,\"K4\",\t\"K5\",\t\"K6\",\"FF4\"],axis=1)\n",
    "df_cleaned_k7_brw_b.dropna(subset=['K7'],inplace=True)\n",
    "\n",
    "### FF4\n",
    "\n",
    "df_cleaned_k1_ff4_b = df_b.drop([\"K2\",\t\"K3\",\t\"K4\"\t,\"K5\",\t\"K6\",\t\"K7\",\"BRW\"],axis=1)\n",
    "df_cleaned_k1_ff4_b.dropna(subset=['K1'],inplace=True)\n",
    "df_cleaned_k1_ff4_b.dropna(subset=['FF4'],inplace=True)\n",
    "\n",
    "df_cleaned_k2_ff4_b = df_b.drop([\"K1\",\t\"K3\",\t\"K4\"\t,\"K5\",\t\"K6\",\t\"K7\",\"BRW\"],axis=1)\n",
    "df_cleaned_k2_ff4_b.dropna(subset=['K2'],inplace=True)\n",
    "df_cleaned_k2_ff4_b.dropna(subset=['FF4'],inplace=True)\n",
    "\n",
    "df_cleaned_k3_ff4_b = df_b.drop([\"K1\",\t\"K2\",\t\"K4\"\t,\"K5\",\t\"K6\",\t\"K7\",\"BRW\"],axis=1)\n",
    "df_cleaned_k3_ff4_b.dropna(subset=['K3'],inplace=True)\n",
    "df_cleaned_k3_ff4_b.dropna(subset=['FF4'],inplace=True)\n",
    "\n",
    "df_cleaned_k4_ff4_b = df_b.drop([\"K1\",\t\"K2\",\t\"K3\"\t,\"K5\",\t\"K6\",\t\"K7\",\"BRW\"],axis=1)\n",
    "df_cleaned_k4_ff4_b.dropna(subset=['K4'],inplace=True)\n",
    "df_cleaned_k4_ff4_b.dropna(subset=['FF4'],inplace=True)\n",
    "\n",
    "df_cleaned_k5_ff4_b = df_b.drop([\"K1\",\t\"K2\",\t\"K3\"\t,\"K4\",\t\"K6\",\t\"K7\",\"BRW\"],axis=1)\n",
    "df_cleaned_k5_ff4_b.dropna(subset=['K5'],inplace=True)\n",
    "df_cleaned_k5_ff4_b.dropna(subset=['FF4'],inplace=True)\n",
    "\n",
    "df_cleaned_k6_ff4_b = df_b.drop([\"K1\",\t\"K2\",\t\"K3\"\t,\"K4\",\t\"K5\",\t\"K7\",\"BRW\"],axis=1)\n",
    "df_cleaned_k6_ff4_b.dropna(subset=['K6'],inplace=True)\n",
    "df_cleaned_k6_ff4_b.dropna(subset=['FF4'],inplace=True)\n",
    "\n",
    "df_cleaned_k7_ff4_b = df_b.drop([\"K1\",\t\"K2\",\t\"K3\"\t,\"K4\",\t\"K5\",\t\"K6\",\"BRW\"],axis=1)\n",
    "df_cleaned_k7_ff4_b.dropna(subset=['K7'],inplace=True)\n",
    "df_cleaned_k7_ff4_b.dropna(subset=['FF4'],inplace=True)"
   ]
  },
  {
   "cell_type": "markdown",
   "id": "71bc84c7-0c33-494d-83bd-b54b8ffb5401",
   "metadata": {},
   "source": [
    "### 2.2) Fill NA"
   ]
  },
  {
   "cell_type": "code",
   "execution_count": 61,
   "id": "682caba2-c3ec-4254-bea9-03e10ea343fb",
   "metadata": {},
   "outputs": [],
   "source": [
    "df_cleaned_k1_brw_b.fillna(0,inplace=True)\n",
    "df_cleaned_k2_brw_b.fillna(0,inplace=True)\n",
    "df_cleaned_k3_brw_b.fillna(0,inplace=True)\n",
    "df_cleaned_k4_brw_b.fillna(0,inplace=True)\n",
    "df_cleaned_k5_brw_b.fillna(0,inplace=True)\n",
    "df_cleaned_k6_brw_b.fillna(0,inplace=True)\n",
    "df_cleaned_k7_brw_b.fillna(0,inplace=True)\n",
    "\n",
    "df_cleaned_k1_ff4_b.fillna(0,inplace=True)\n",
    "df_cleaned_k2_ff4_b.fillna(0,inplace=True)\n",
    "df_cleaned_k3_ff4_b.fillna(0,inplace=True)\n",
    "df_cleaned_k4_ff4_b.fillna(0,inplace=True)\n",
    "df_cleaned_k5_ff4_b.fillna(0,inplace=True)\n",
    "df_cleaned_k6_ff4_b.fillna(0,inplace=True)\n",
    "df_cleaned_k7_ff4_b.fillna(0,inplace=True)"
   ]
  },
  {
   "cell_type": "markdown",
   "id": "321fba97-e6eb-4b6d-bb3b-d398b0deb729",
   "metadata": {},
   "source": [
    "#### Isolating Financial Firms"
   ]
  },
  {
   "cell_type": "code",
   "execution_count": 62,
   "id": "f14b32cf-5b0d-49b8-8903-7ee94a9c9b20",
   "metadata": {},
   "outputs": [],
   "source": [
    "df_FIN_brw_k1 = df_cleaned_k1_brw_b\n",
    "df_FIN_brw_k2 = df_cleaned_k2_brw_b\n",
    "df_FIN_brw_k3 = df_cleaned_k3_brw_b\n",
    "df_FIN_brw_k4 = df_cleaned_k4_brw_b\n",
    "df_FIN_brw_k5 = df_cleaned_k5_brw_b\n",
    "df_FIN_brw_k6 = df_cleaned_k6_brw_b\n",
    "df_FIN_brw_k7 = df_cleaned_k7_brw_b\n",
    "\n",
    "\n",
    "df_FIN_ff4_k1 = df_cleaned_k1_ff4_b\n",
    "df_FIN_ff4_k2 = df_cleaned_k2_ff4_b\n",
    "df_FIN_ff4_k3 = df_cleaned_k3_ff4_b\n",
    "df_FIN_ff4_k4 = df_cleaned_k4_ff4_b\n",
    "df_FIN_ff4_k5 = df_cleaned_k5_ff4_b\n",
    "df_FIN_ff4_k6 = df_cleaned_k6_ff4_b\n",
    "df_FIN_ff4_k7 = df_cleaned_k7_ff4_b\n"
   ]
  },
  {
   "cell_type": "markdown",
   "id": "e508e342-6682-446c-a7ff-a9023ea593ed",
   "metadata": {},
   "source": [
    "#### Identifying Variables - BRW"
   ]
  },
  {
   "cell_type": "code",
   "execution_count": 63,
   "id": "917fd8ed-6442-46f7-be8c-d85627f900e2",
   "metadata": {},
   "outputs": [],
   "source": [
    "Y1_brw_FIN  = df_FIN_brw_k1[\"K1\"]\n",
    "x1_brw_FIN = sm.add_constant(df_FIN_brw_k1)\n",
    "X1_brw_FIN = pd.concat([x1_brw_FIN[[\"const\", \"BRW\"]], x1_brw_FIN[control_variables]], axis=1)\n",
    "X1_brw_FIN_nc = x1_brw_FIN[[\"const\", \"BRW\"]]\n",
    "\n",
    "Y2_brw_FIN  = df_FIN_brw_k2[\"K2\"]\n",
    "x2_brw_FIN = sm.add_constant(df_FIN_brw_k2)\n",
    "X2_brw_FIN = pd.concat([x2_brw_FIN[[\"const\", \"BRW\"]], x2_brw_FIN[control_variables]], axis=1)\n",
    "X2_brw_FIN_nc = x2_brw_FIN[[\"const\", \"BRW\"]]\n",
    "\n",
    "Y3_brw_FIN  = df_FIN_brw_k3[\"K3\"]\n",
    "x3_brw_FIN = sm.add_constant(df_FIN_brw_k3)\n",
    "X3_brw_FIN = pd.concat([x3_brw_FIN[[\"const\", \"BRW\"]], x3_brw_FIN[control_variables]], axis=1)\n",
    "X3_brw_FIN_nc = x3_brw_FIN[[\"const\", \"BRW\"]]\n",
    "\n",
    "Y4_brw_FIN  = df_FIN_brw_k4[\"K4\"]\n",
    "x4_brw_FIN = sm.add_constant(df_FIN_brw_k4)\n",
    "X4_brw_FIN = pd.concat([x4_brw_FIN[[\"const\", \"BRW\"]], x4_brw_FIN[control_variables]], axis=1)\n",
    "X4_brw_FIN_nc = x4_brw_FIN[[\"const\", \"BRW\"]]\n",
    "\n",
    "Y5_brw_FIN  = df_FIN_brw_k5[\"K5\"]\n",
    "x5_brw_FIN = sm.add_constant(df_FIN_brw_k5)\n",
    "X5_brw_FIN = pd.concat([x5_brw_FIN[[\"const\", \"BRW\"]], x5_brw_FIN[control_variables]], axis=1)\n",
    "X5_brw_FIN_nc = x5_brw_FIN[[\"const\", \"BRW\"]]\n",
    "\n",
    "Y6_brw_FIN  = df_FIN_brw_k6[\"K6\"]\n",
    "x6_brw_FIN = sm.add_constant(df_FIN_brw_k6)\n",
    "X6_brw_FIN = pd.concat([x6_brw_FIN[[\"const\", \"BRW\"]], x6_brw_FIN[control_variables]], axis=1)\n",
    "X6_brw_FIN_nc = x6_brw_FIN[[\"const\", \"BRW\"]]\n",
    "\n",
    "Y7_brw_FIN  = df_FIN_brw_k7[\"K7\"]\n",
    "x7_brw_FIN = sm.add_constant(df_FIN_brw_k7)\n",
    "X7_brw_FIN = pd.concat([x7_brw_FIN[[\"const\", \"BRW\"]], x7_brw_FIN[control_variables]], axis=1)\n",
    "X7_brw_FIN_nc = x7_brw_FIN[[\"const\", \"BRW\"]]\n",
    "\n",
    "X_brw_h7 = [X1_brw_FIN, X2_brw_FIN, X3_brw_FIN, X4_brw_FIN , X5_brw_FIN, X6_brw_FIN, X7_brw_FIN ]\n",
    "X_brw_h7_nc = [X1_brw_FIN_nc, X2_brw_FIN_nc, X3_brw_FIN_nc, X4_brw_FIN_nc , X5_brw_FIN_nc, X6_brw_FIN_nc, X7_brw_FIN_nc ]\n",
    "Y_brw_h7 = [Y1_brw_FIN, Y2_brw_FIN, Y3_brw_FIN, Y4_brw_FIN, Y5_brw_FIN, Y6_brw_FIN, Y7_brw_FIN]"
   ]
  },
  {
   "cell_type": "markdown",
   "id": "7eb214ea-5754-4e4c-ab92-300d2b614cfc",
   "metadata": {},
   "source": [
    "#### Identifying Variables - FF4"
   ]
  },
  {
   "cell_type": "code",
   "execution_count": 64,
   "id": "a01b2c97-9c8b-48ee-8e2f-cb30dbad2465",
   "metadata": {},
   "outputs": [],
   "source": [
    "Y1_ff4_FIN  = df_FIN_ff4_k1[\"K1\"]\n",
    "x1_ff4_FIN = sm.add_constant(df_FIN_ff4_k1)\n",
    "X1_ff4_FIN = pd.concat([x1_ff4_FIN[[\"const\", \"FF4\"]], x1_ff4_FIN[control_variables]], axis=1)\n",
    "X1_ff4_FIN_nc = x1_ff4_FIN[[\"const\", \"FF4\"]]\n",
    "\n",
    "Y2_ff4_FIN  = df_FIN_ff4_k2[\"K2\"]\n",
    "x2_ff4_FIN = sm.add_constant(df_FIN_ff4_k2)\n",
    "X2_ff4_FIN = pd.concat([x2_ff4_FIN[[\"const\", \"FF4\"]], x2_ff4_FIN[control_variables]], axis=1)\n",
    "X2_ff4_FIN_nc = x2_ff4_FIN[[\"const\", \"FF4\"]]\n",
    "\n",
    "Y3_ff4_FIN  = df_FIN_ff4_k3[\"K3\"]\n",
    "x3_ff4_FIN = sm.add_constant(df_FIN_ff4_k3)\n",
    "X3_ff4_FIN = pd.concat([x3_ff4_FIN[[\"const\", \"FF4\"]], x3_ff4_FIN[control_variables]], axis=1)\n",
    "X3_ff4_FIN_nc = x3_ff4_FIN[[\"const\", \"FF4\"]]\n",
    "\n",
    "Y4_ff4_FIN  = df_FIN_ff4_k4[\"K4\"]\n",
    "x4_ff4_FIN = sm.add_constant(df_FIN_ff4_k4)\n",
    "X4_ff4_FIN = pd.concat([x4_ff4_FIN[[\"const\", \"FF4\"]], x4_ff4_FIN[control_variables]], axis=1)\n",
    "X4_ff4_FIN_nc = x4_ff4_FIN[[\"const\", \"FF4\"]]\n",
    "\n",
    "Y5_ff4_FIN  = df_FIN_ff4_k5[\"K5\"]\n",
    "x5_ff4_FIN = sm.add_constant(df_FIN_ff4_k5)\n",
    "X5_ff4_FIN = pd.concat([x5_ff4_FIN[[\"const\", \"FF4\"]], x5_ff4_FIN[control_variables]], axis=1)\n",
    "X5_ff4_FIN_nc = x5_ff4_FIN[[\"const\", \"FF4\"]]\n",
    "\n",
    "Y6_ff4_FIN  = df_FIN_ff4_k6[\"K6\"]\n",
    "x6_ff4_FIN = sm.add_constant(df_FIN_ff4_k6)\n",
    "X6_ff4_FIN = pd.concat([x6_ff4_FIN[[\"const\", \"FF4\"]], x6_ff4_FIN[control_variables]], axis=1)\n",
    "X6_ff4_FIN_nc = x6_ff4_FIN[[\"const\", \"FF4\"]]\n",
    "\n",
    "Y7_ff4_FIN  = df_FIN_ff4_k7[\"K7\"]\n",
    "x7_ff4_FIN = sm.add_constant(df_FIN_ff4_k7)\n",
    "X7_ff4_FIN = pd.concat([x7_ff4_FIN[[\"const\", \"FF4\"]], x7_ff4_FIN[control_variables]], axis=1)\n",
    "X7_ff4_FIN_nc = x7_ff4_FIN[[\"const\", \"FF4\"]]\n",
    "\n",
    "X_ff4_h7 = [X1_ff4_FIN, X2_ff4_FIN, X3_ff4_FIN, X4_ff4_FIN , X5_ff4_FIN, X6_ff4_FIN, X7_ff4_FIN ]\n",
    "X_ff4_h7_nc = [X1_ff4_FIN_nc, X2_ff4_FIN_nc, X3_ff4_FIN_nc, X4_ff4_FIN_nc , X5_ff4_FIN_nc, X6_ff4_FIN_nc, X7_ff4_FIN_nc ]\n",
    "Y_ff4_h7 = [Y1_ff4_FIN, Y2_ff4_FIN, Y3_ff4_FIN, Y4_ff4_FIN, Y5_ff4_FIN, Y6_ff4_FIN, Y7_ff4_FIN]"
   ]
  },
  {
   "cell_type": "markdown",
   "id": "0ac940bd-f098-4128-9f59-525a0b4cafa7",
   "metadata": {},
   "source": [
    "### Analysis - BRW"
   ]
  },
  {
   "cell_type": "code",
   "execution_count": 65,
   "id": "da455396-fb4d-41fa-988f-2af5914a2357",
   "metadata": {
    "scrolled": true
   },
   "outputs": [
    {
     "data": {
      "text/html": [
       "<div>\n",
       "<style scoped>\n",
       "    .dataframe tbody tr th:only-of-type {\n",
       "        vertical-align: middle;\n",
       "    }\n",
       "\n",
       "    .dataframe tbody tr th {\n",
       "        vertical-align: top;\n",
       "    }\n",
       "\n",
       "    .dataframe thead th {\n",
       "        text-align: right;\n",
       "    }\n",
       "</style>\n",
       "<table border=\"1\" class=\"dataframe\">\n",
       "  <thead>\n",
       "    <tr style=\"text-align: right;\">\n",
       "      <th></th>\n",
       "      <th>K1</th>\n",
       "      <th>K2</th>\n",
       "      <th>K3</th>\n",
       "      <th>K4</th>\n",
       "      <th>K5</th>\n",
       "      <th>K6</th>\n",
       "      <th>K7</th>\n",
       "    </tr>\n",
       "  </thead>\n",
       "  <tbody>\n",
       "    <tr>\n",
       "      <th>Coeff</th>\n",
       "      <td>0.0</td>\n",
       "      <td>0.0</td>\n",
       "      <td>0.0</td>\n",
       "      <td>0.0</td>\n",
       "      <td>0.0</td>\n",
       "      <td>0.0</td>\n",
       "      <td>0.0</td>\n",
       "    </tr>\n",
       "    <tr>\n",
       "      <th>95% conf Interval</th>\n",
       "      <td>0.0</td>\n",
       "      <td>0.0</td>\n",
       "      <td>0.0</td>\n",
       "      <td>0.0</td>\n",
       "      <td>0.0</td>\n",
       "      <td>0.0</td>\n",
       "      <td>0.0</td>\n",
       "    </tr>\n",
       "  </tbody>\n",
       "</table>\n",
       "</div>"
      ],
      "text/plain": [
       "                    K1   K2   K3   K4   K5   K6   K7\n",
       "Coeff              0.0  0.0  0.0  0.0  0.0  0.0  0.0\n",
       "95% conf Interval  0.0  0.0  0.0  0.0  0.0  0.0  0.0"
      ]
     },
     "execution_count": 65,
     "metadata": {},
     "output_type": "execute_result"
    }
   ],
   "source": [
    "H7_BRW_result_df_c = pd.DataFrame(np.zeros((2, 7)), columns=[\"K1\", \"K2\", \"K3\", \"K4\", \"K5\", \"K6\", \"K7\"])\n",
    "H7_BRW_result_df_c.index = [\"Coeff\", \"95% conf Interval\"]\n",
    "H7_BRW_result_df_c\n",
    "\n",
    "H7_BRW_result_df_nc = pd.DataFrame(np.zeros((2, 7)), columns=[\"K1\", \"K2\", \"K3\", \"K4\", \"K5\", \"K6\", \"K7\"])\n",
    "H7_BRW_result_df_nc.index = [\"Coeff\", \"95% conf Interval\"]\n",
    "H7_BRW_result_df_nc"
   ]
  },
  {
   "cell_type": "code",
   "execution_count": 66,
   "id": "1bec25d9-393f-4df6-aaa9-16c2a246e4f2",
   "metadata": {},
   "outputs": [],
   "source": [
    "for i in range(len(X_brw_h7)):\n",
    "    X = X_brw_h7[i]\n",
    "    Y = Y_brw_h7[i]\n",
    " \n",
    "    result = sm.OLS(Y, X).fit()\n",
    "    coef = result.params[1]   \n",
    "    se = result.bse[1]\n",
    "    \n",
    "\n",
    "    # Compute confidence intervals\n",
    "    dof = result.df_resid  # Degrees of freedom\n",
    "    t_crit = stats.t.ppf(1 - alpha / 2, df=dof)  # Critical t-value\n",
    "\n",
    "    ci = t_crit * se\n",
    "    \n",
    "    H7_BRW_result_df_c.iloc[0,i] = coef\n",
    "    H7_BRW_result_df_c.iloc[1,i] = ci\n",
    "\n",
    "for i in range(len(X_brw_h7_nc)):\n",
    "    X = X_brw_h7_nc[i]\n",
    "    Y = Y_brw_h7[i]\n",
    " \n",
    "    result = sm.OLS(Y, X).fit()\n",
    "    coef = result.params[1]   \n",
    "    se = result.bse[1]\n",
    "    \n",
    "\n",
    "    # Compute confidence intervals\n",
    "    dof = result.df_resid  # Degrees of freedom\n",
    "    t_crit = stats.t.ppf(1 - alpha / 2, df=dof)  # Critical t-value\n",
    "\n",
    "    ci = t_crit * se\n",
    "    \n",
    "    H7_BRW_result_df_nc.iloc[0,i] = coef\n",
    "    H7_BRW_result_df_nc.iloc[1,i] = ci\n",
    "  \n",
    "\n",
    "\n",
    "\n",
    "\n"
   ]
  },
  {
   "cell_type": "markdown",
   "id": "bdeb6b7a-bff0-40b4-a828-afc98bca23d9",
   "metadata": {},
   "source": [
    "### FF4"
   ]
  },
  {
   "cell_type": "code",
   "execution_count": 67,
   "id": "1c660741-f08a-4968-9eb0-e1e86eb1e945",
   "metadata": {},
   "outputs": [
    {
     "data": {
      "text/html": [
       "<div>\n",
       "<style scoped>\n",
       "    .dataframe tbody tr th:only-of-type {\n",
       "        vertical-align: middle;\n",
       "    }\n",
       "\n",
       "    .dataframe tbody tr th {\n",
       "        vertical-align: top;\n",
       "    }\n",
       "\n",
       "    .dataframe thead th {\n",
       "        text-align: right;\n",
       "    }\n",
       "</style>\n",
       "<table border=\"1\" class=\"dataframe\">\n",
       "  <thead>\n",
       "    <tr style=\"text-align: right;\">\n",
       "      <th></th>\n",
       "      <th>K1</th>\n",
       "      <th>K2</th>\n",
       "      <th>K3</th>\n",
       "      <th>K4</th>\n",
       "      <th>K5</th>\n",
       "      <th>K6</th>\n",
       "      <th>K7</th>\n",
       "    </tr>\n",
       "  </thead>\n",
       "  <tbody>\n",
       "    <tr>\n",
       "      <th>Coeff</th>\n",
       "      <td>0.0</td>\n",
       "      <td>0.0</td>\n",
       "      <td>0.0</td>\n",
       "      <td>0.0</td>\n",
       "      <td>0.0</td>\n",
       "      <td>0.0</td>\n",
       "      <td>0.0</td>\n",
       "    </tr>\n",
       "    <tr>\n",
       "      <th>95% conf Interval</th>\n",
       "      <td>0.0</td>\n",
       "      <td>0.0</td>\n",
       "      <td>0.0</td>\n",
       "      <td>0.0</td>\n",
       "      <td>0.0</td>\n",
       "      <td>0.0</td>\n",
       "      <td>0.0</td>\n",
       "    </tr>\n",
       "  </tbody>\n",
       "</table>\n",
       "</div>"
      ],
      "text/plain": [
       "                    K1   K2   K3   K4   K5   K6   K7\n",
       "Coeff              0.0  0.0  0.0  0.0  0.0  0.0  0.0\n",
       "95% conf Interval  0.0  0.0  0.0  0.0  0.0  0.0  0.0"
      ]
     },
     "execution_count": 67,
     "metadata": {},
     "output_type": "execute_result"
    }
   ],
   "source": [
    "H7_FF4_result_df_c = pd.DataFrame(np.zeros((2, 7)), columns=[\"K1\", \"K2\", \"K3\", \"K4\", \"K5\", \"K6\", \"K7\"])\n",
    "H7_FF4_result_df_c.index = [\"Coeff\", \"95% conf Interval\"]\n",
    "H7_FF4_result_df_c\n",
    "\n",
    "H7_FF4_result_df_nc = pd.DataFrame(np.zeros((2, 7)), columns=[\"K1\", \"K2\", \"K3\", \"K4\", \"K5\", \"K6\", \"K7\"])\n",
    "H7_FF4_result_df_nc.index = [\"Coeff\", \"95% conf Interval\"]\n",
    "H7_FF4_result_df_nc"
   ]
  },
  {
   "cell_type": "code",
   "execution_count": 68,
   "id": "c9ef3505-949b-4bf6-82f3-87b4b463a5d0",
   "metadata": {},
   "outputs": [],
   "source": [
    "for i in range(len(X_ff4_h7)):\n",
    "    X = X_ff4_h7[i]\n",
    "    Y = Y_ff4_h7[i]\n",
    "  \n",
    "    result = sm.OLS(Y, X).fit()\n",
    "    coef = result.params[1]   \n",
    "    se = result.bse[1]\n",
    "    \n",
    "\n",
    "    # Compute confidence intervals\n",
    "    dof = result.df_resid  # Degrees of freedom\n",
    "    t_crit = stats.t.ppf(1 - alpha / 2, df=dof)  # Critical t-value\n",
    "\n",
    "\n",
    "    ci= t_crit * se\n",
    "    \n",
    "    H7_FF4_result_df_c.iloc[0,i] = coef\n",
    "    H7_FF4_result_df_c.iloc[1,i] = ci\n",
    "\n",
    "for i in range(len(X_ff4_h7_nc)):\n",
    "    X = X_ff4_h7_nc[i]\n",
    "    Y = Y_ff4_h7[i]\n",
    "  \n",
    "    result = sm.OLS(Y, X).fit()\n",
    "    coef = result.params[1]   \n",
    "    se = result.bse[1]\n",
    "    \n",
    "\n",
    "    # Compute confidence intervals\n",
    "    dof = result.df_resid  # Degrees of freedom\n",
    "    t_crit = stats.t.ppf(1 - alpha / 2, df=dof)  # Critical t-value\n",
    "\n",
    "\n",
    "    ci= t_crit * se\n",
    "    \n",
    "    H7_FF4_result_df_nc.iloc[0,i] = coef\n",
    "    H7_FF4_result_df_nc.iloc[1,i] = ci\n",
    "   "
   ]
  },
  {
   "cell_type": "code",
   "execution_count": 69,
   "id": "09276b2c-bed1-4d70-8fce-7809b2eadfa2",
   "metadata": {},
   "outputs": [
    {
     "data": {
      "text/html": [
       "<div>\n",
       "<style scoped>\n",
       "    .dataframe tbody tr th:only-of-type {\n",
       "        vertical-align: middle;\n",
       "    }\n",
       "\n",
       "    .dataframe tbody tr th {\n",
       "        vertical-align: top;\n",
       "    }\n",
       "\n",
       "    .dataframe thead th {\n",
       "        text-align: right;\n",
       "    }\n",
       "</style>\n",
       "<table border=\"1\" class=\"dataframe\">\n",
       "  <thead>\n",
       "    <tr style=\"text-align: right;\">\n",
       "      <th></th>\n",
       "      <th>K1</th>\n",
       "      <th>K2</th>\n",
       "      <th>K3</th>\n",
       "      <th>K4</th>\n",
       "      <th>K5</th>\n",
       "      <th>K6</th>\n",
       "      <th>K7</th>\n",
       "    </tr>\n",
       "  </thead>\n",
       "  <tbody>\n",
       "    <tr>\n",
       "      <th>Coeff</th>\n",
       "      <td>0.024358</td>\n",
       "      <td>-0.016202</td>\n",
       "      <td>0.000151</td>\n",
       "      <td>-0.018239</td>\n",
       "      <td>-0.013125</td>\n",
       "      <td>-0.013534</td>\n",
       "      <td>-0.004176</td>\n",
       "    </tr>\n",
       "    <tr>\n",
       "      <th>95% conf Interval</th>\n",
       "      <td>0.011329</td>\n",
       "      <td>0.011899</td>\n",
       "      <td>0.011004</td>\n",
       "      <td>0.012318</td>\n",
       "      <td>0.011433</td>\n",
       "      <td>0.011649</td>\n",
       "      <td>0.012107</td>\n",
       "    </tr>\n",
       "  </tbody>\n",
       "</table>\n",
       "</div>"
      ],
      "text/plain": [
       "                         K1        K2        K3        K4        K5        K6  \\\n",
       "Coeff              0.024358 -0.016202  0.000151 -0.018239 -0.013125 -0.013534   \n",
       "95% conf Interval  0.011329  0.011899  0.011004  0.012318  0.011433  0.011649   \n",
       "\n",
       "                         K7  \n",
       "Coeff             -0.004176  \n",
       "95% conf Interval  0.012107  "
      ]
     },
     "execution_count": 69,
     "metadata": {},
     "output_type": "execute_result"
    }
   ],
   "source": [
    "H7_FF4_result_df_nc\n",
    "H7_BRW_result_df_nc"
   ]
  },
  {
   "cell_type": "markdown",
   "id": "fde1586e-6ef5-432c-8a06-9e211b846bec",
   "metadata": {},
   "source": [
    "### Plotting Results with control variables"
   ]
  },
  {
   "cell_type": "code",
   "execution_count": 70,
   "id": "20cd0771-8ded-43e3-8a8a-eb376e6bf794",
   "metadata": {},
   "outputs": [
    {
     "data": {
      "image/png": "[encoded data removed]",
      "text/plain": [
       "<Figure size 1000x600 with 2 Axes>"
      ]
     },
     "metadata": {},
     "output_type": "display_data"
    }
   ],
   "source": [
    "# Simulated Data\n",
    "fig, axes = plt.subplots(1, 2, figsize=(10, 6))\n",
    "\n",
    "# Plot for Young Firms\n",
    "axes[0].errorbar(H7_BRW_result_df_c.columns, H7_BRW_result_df_c.loc[\"Coeff\"], yerr=H7_BRW_result_df_c.loc[ \"95% conf Interval\"], fmt='-o', color='red', ecolor='red', linestyle='solid', capsize=4)\n",
    "axes[0].errorbar(H1_BRW_result_df_c.columns, H1_BRW_result_df_c.loc[\"Coeff\"], yerr=H1_BRW_result_df_c.loc[ \"95% conf Interval\"], fmt='-o', color='blue', ecolor='blue', linestyle='solid', capsize=4)\n",
    "axes[0].axhline(0, color='gray', linestyle='dashed')\n",
    "axes[0].set_title(\"BRW\")\n",
    "axes[0].set_xlabel(\"Month Since Shock\")\n",
    "axes[0].set_ylabel(\"Level Change\")\n",
    "axes[0].grid()\n",
    "axes[0].set_ylim(-0.15,0.15)\n",
    "\n",
    "# Plot for Old Firms\n",
    "axes[1].errorbar(H7_FF4_result_df_c.columns, H7_FF4_result_df_c.loc[\"Coeff\"], yerr=H7_FF4_result_df_c.loc[\"95% conf Interval\"], fmt='-o', color='red', ecolor='red', linestyle='solid', capsize=4)\n",
    "axes[1].errorbar(H1_FF4_result_df_c.columns, H1_FF4_result_df_c.loc[\"Coeff\"], yerr=H1_FF4_result_df_c.loc[\"95% conf Interval\"], fmt='-o', color='blue', ecolor='blue', linestyle='solid', capsize=4)\n",
    "axes[1].axhline(0, color='gray', linestyle='dashed')\n",
    "axes[1].set_title(\"FF4\")\n",
    "axes[1].set_xlabel(\"Month Since Shock\")\n",
    "axes[1].set_ylabel(\"Level Change\")\n",
    "axes[1].grid()\n",
    "axes[1].set_ylim(-0.15,0.15)\n",
    "\n",
    "# Formatting the frames\n",
    "for ax in axes:\n",
    "    ax.spines['top'].set_visible(False)\n",
    "    ax.spines['right'].set_visible(False)\n",
    "    ax.spines['left'].set_linewidth(1.2)\n",
    "    ax.spines['bottom'].set_linewidth(1.2)\n",
    "\n",
    "\n",
    "plt.tight_layout()\n",
    "plt.show()\n"
   ]
  },
  {
   "cell_type": "markdown",
   "id": "188a60e8-5f85-4b3a-9536-088e74b3b124",
   "metadata": {},
   "source": [
    "### Plotting Results without control variables"
   ]
  },
  {
   "cell_type": "code",
   "execution_count": 71,
   "id": "b12f590a-c553-4a2a-9172-90df19d09a40",
   "metadata": {},
   "outputs": [
    {
     "data": {
      "image/png": "[encoded data removed]",
      "text/plain": [
       "<Figure size 1000x600 with 2 Axes>"
      ]
     },
     "metadata": {},
     "output_type": "display_data"
    }
   ],
   "source": [
    "# Simulated Data\n",
    "fig, axes = plt.subplots(1, 2, figsize=(10, 6))\n",
    "\n",
    "# Plot for Young Firms\n",
    "axes[0].errorbar(H7_BRW_result_df_nc.columns, H7_BRW_result_df_nc.loc[\"Coeff\"], yerr=H7_BRW_result_df_nc.loc[ \"95% conf Interval\"], fmt='-o', color='red', ecolor='red', linestyle='solid', capsize=4)\n",
    "axes[0].errorbar(H1_BRW_result_df_nc.columns, H1_BRW_result_df_nc.loc[\"Coeff\"], yerr=H1_BRW_result_df_nc.loc[ \"95% conf Interval\"], fmt='-o', color='blue', ecolor='blue', linestyle='solid', capsize=4)\n",
    "axes[0].axhline(0, color='gray', linestyle='dashed')\n",
    "axes[0].set_title(\"BRW\")\n",
    "axes[0].set_xlabel(\"Month Since Shock\")\n",
    "axes[0].set_ylabel(\"Level Change\")\n",
    "axes[0].grid()\n",
    "axes[0].set_ylim(-0.15,0.15) \n",
    "\n",
    "# Plot for Old Firms\n",
    "axes[1].errorbar(H7_FF4_result_df_nc.columns, H7_FF4_result_df_nc.loc[\"Coeff\"], yerr=H7_FF4_result_df_nc.loc[\"95% conf Interval\"], fmt='-o', color='red', ecolor='red', linestyle='solid', capsize=4)\n",
    "axes[1].errorbar(H1_FF4_result_df_nc.columns, H1_FF4_result_df_nc.loc[\"Coeff\"], yerr=H1_FF4_result_df_nc.loc[\"95% conf Interval\"], fmt='-o', color='blue', ecolor='blue', linestyle='solid', capsize=4)\n",
    "axes[1].axhline(0, color='gray', linestyle='dashed')\n",
    "axes[1].set_title(\"FF4\")\n",
    "axes[1].set_xlabel(\"Month Since Shock\")\n",
    "axes[1].set_ylabel(\"Level Change\")\n",
    "axes[1].grid()\n",
    "axes[1].set_ylim(-0.15,0.15)\n",
    "# Formatting the frames\n",
    "for ax in axes:\n",
    "    ax.spines['top'].set_visible(False)\n",
    "    ax.spines['right'].set_visible(False)\n",
    "    ax.spines['left'].set_linewidth(1.2)\n",
    "    ax.spines['bottom'].set_linewidth(1.2)\n",
    "\n",
    "\n",
    "plt.tight_layout()\n",
    "plt.savefig(\"Data/Pictures/H7_nc.png\")\n",
    "plt.show()\n"
   ]
  },
  {
   "cell_type": "markdown",
   "id": "e9267588-0db7-4a25-ae07-cd716a11a18a",
   "metadata": {},
   "source": [
    "### 3.4) Hypothesis 9"
   ]
  },
  {
   "cell_type": "markdown",
   "id": "9ee47f3c-d631-46cc-aa59-8cc9162dc211",
   "metadata": {},
   "source": [
    "#### Isolating Technology and growth-oriented Firms"
   ]
  },
  {
   "cell_type": "code",
   "execution_count": 37,
   "id": "fd00f86d-6111-4e3c-9fd4-64a22036de66",
   "metadata": {},
   "outputs": [],
   "source": [
    "df_TG_brw_k1 = df_cleaned_k1_brw.loc[df_cleaned_k1_brw[\"Industry\"].isin([\"Technology Hardware & Equipment\",\"Software & Services\"])]\n",
    "df_TG_brw_k2 = df_cleaned_k2_brw.loc[df_cleaned_k2_brw[\"Industry\"].isin([\"Technology Hardware & Equipment\",\"Software & Services\"])]\n",
    "df_TG_brw_k3 = df_cleaned_k3_brw.loc[df_cleaned_k3_brw[\"Industry\"].isin([\"Technology Hardware & Equipment\",\"Software & Services\"])]\n",
    "df_TG_brw_k4 = df_cleaned_k4_brw.loc[df_cleaned_k4_brw[\"Industry\"].isin([\"Technology Hardware & Equipment\",\"Software & Services\"])]\n",
    "df_TG_brw_k5 = df_cleaned_k5_brw.loc[df_cleaned_k5_brw[\"Industry\"].isin([\"Technology Hardware & Equipment\",\"Software & Services\"])]\n",
    "df_TG_brw_k6 = df_cleaned_k6_brw.loc[df_cleaned_k6_brw[\"Industry\"].isin([\"Technology Hardware & Equipment\",\"Software & Services\"])]\n",
    "df_TG_brw_k7 = df_cleaned_k7_brw.loc[df_cleaned_k7_brw[\"Industry\"].isin([\"Technology Hardware & Equipment\",\"Software & Services\"])]\n",
    "\n",
    "\n",
    "df_TG_ff4_k1 = df_cleaned_k1_ff4.loc[df_cleaned_k1_ff4[\"Industry\"].isin([\"Technology Hardware & Equipment\",\"Software & Services\"])]\n",
    "df_TG_ff4_k2 = df_cleaned_k2_ff4.loc[df_cleaned_k2_ff4[\"Industry\"].isin([\"Technology Hardware & Equipment\",\"Software & Services\"])]\n",
    "df_TG_ff4_k3 = df_cleaned_k3_ff4.loc[df_cleaned_k3_ff4[\"Industry\"].isin([\"Technology Hardware & Equipment\",\"Software & Services\"])]\n",
    "df_TG_ff4_k4 = df_cleaned_k4_ff4.loc[df_cleaned_k4_ff4[\"Industry\"].isin([\"Technology Hardware & Equipment\",\"Software & Services\"])]\n",
    "df_TG_ff4_k5 = df_cleaned_k5_ff4.loc[df_cleaned_k5_ff4[\"Industry\"].isin([\"Technology Hardware & Equipment\",\"Software & Services\"])]\n",
    "df_TG_ff4_k6 = df_cleaned_k6_ff4.loc[df_cleaned_k6_ff4[\"Industry\"].isin([\"Technology Hardware & Equipment\",\"Software & Services\"])]\n",
    "df_TG_ff4_k7 = df_cleaned_k7_ff4.loc[df_cleaned_k7_ff4[\"Industry\"].isin([\"Technology Hardware & Equipment\",\"Software & Services\"])]\n"
   ]
  },
  {
   "cell_type": "markdown",
   "id": "a702cf8a-da60-4f7d-b714-091da7bab877",
   "metadata": {},
   "source": [
    "#### Identifying Variables - BRW"
   ]
  },
  {
   "cell_type": "code",
   "execution_count": 38,
   "id": "1d621eed-531c-44e6-856e-8a12d840d87b",
   "metadata": {},
   "outputs": [],
   "source": [
    "Y1_brw_TG  = df_TG_brw_k1[\"K1\"]\n",
    "x1_brw_TG = sm.add_constant(df_TG_brw_k1)\n",
    "X1_brw_TG = pd.concat([x1_brw_TG[[\"const\", \"BRW\"]], x1_brw_TG[control_variables]], axis=1)\n",
    "X1_brw_TG_nc = x1_brw_TG[[\"const\", \"BRW\"]]\n",
    "\n",
    "Y2_brw_TG  = df_TG_brw_k2[\"K2\"]\n",
    "x2_brw_TG = sm.add_constant(df_TG_brw_k2)\n",
    "X2_brw_TG = pd.concat([x2_brw_TG[[\"const\", \"BRW\"]], x2_brw_TG[control_variables]], axis=1)\n",
    "X2_brw_TG_nc = x2_brw_TG[[\"const\", \"BRW\"]]\n",
    "\n",
    "Y3_brw_TG  = df_TG_brw_k3[\"K3\"]\n",
    "x3_brw_TG = sm.add_constant(df_TG_brw_k3)\n",
    "X3_brw_TG = pd.concat([x3_brw_TG[[\"const\", \"BRW\"]], x3_brw_TG[control_variables]], axis=1)\n",
    "X3_brw_TG_nc = x3_brw_TG[[\"const\", \"BRW\"]]\n",
    "\n",
    "Y4_brw_TG  = df_TG_brw_k4[\"K4\"]\n",
    "x4_brw_TG = sm.add_constant(df_TG_brw_k4)\n",
    "X4_brw_TG = pd.concat([x4_brw_TG[[\"const\", \"BRW\"]], x4_brw_TG[control_variables]], axis=1)\n",
    "X4_brw_TG_nc = x4_brw_TG[[\"const\", \"BRW\"]]\n",
    "\n",
    "Y5_brw_TG  = df_TG_brw_k5[\"K5\"]\n",
    "x5_brw_TG = sm.add_constant(df_TG_brw_k5)\n",
    "X5_brw_TG = pd.concat([x5_brw_TG[[\"const\", \"BRW\"]], x5_brw_TG[control_variables]], axis=1)\n",
    "X5_brw_TG_nc = x5_brw_TG[[\"const\", \"BRW\"]]\n",
    "\n",
    "Y6_brw_TG  = df_TG_brw_k6[\"K6\"]\n",
    "x6_brw_TG = sm.add_constant(df_TG_brw_k6)\n",
    "X6_brw_TG = pd.concat([x6_brw_TG[[\"const\", \"BRW\"]], x6_brw_TG[control_variables]], axis=1)\n",
    "X6_brw_TG_nc = x6_brw_TG[[\"const\", \"BRW\"]]\n",
    "\n",
    "Y7_brw_TG  = df_TG_brw_k7[\"K7\"]\n",
    "x7_brw_TG = sm.add_constant(df_TG_brw_k7)\n",
    "X7_brw_TG = pd.concat([x7_brw_TG[[\"const\", \"BRW\"]], x7_brw_TG[control_variables]], axis=1)\n",
    "X7_brw_TG_nc = x7_brw_TG[[\"const\", \"BRW\"]]\n",
    "\n",
    "X_brw_h9 = [X1_brw_TG, X2_brw_TG, X3_brw_TG, X4_brw_TG , X5_brw_TG, X6_brw_TG, X7_brw_TG ]\n",
    "X_brw_h9_nc = [X1_brw_TG_nc, X2_brw_TG_nc, X3_brw_TG_nc, X4_brw_TG_nc , X5_brw_TG_nc, X6_brw_TG_nc, X7_brw_TG_nc ]\n",
    "Y_brw_h9 = [Y1_brw_TG, Y2_brw_TG, Y3_brw_TG, Y4_brw_TG, Y5_brw_TG, Y6_brw_TG, Y7_brw_TG]"
   ]
  },
  {
   "cell_type": "markdown",
   "id": "6a8e1b25-fa3f-4173-9efa-9133524f8a32",
   "metadata": {},
   "source": [
    "#### Identifying Variables - FF4"
   ]
  },
  {
   "cell_type": "code",
   "execution_count": 39,
   "id": "5b03f2a1-44ab-4279-b0b8-a8e75a48eb8b",
   "metadata": {},
   "outputs": [],
   "source": [
    "Y1_ff4_TG  = df_TG_ff4_k1[\"K1\"]\n",
    "x1_ff4_TG = sm.add_constant(df_TG_ff4_k1)\n",
    "X1_ff4_TG = pd.concat([x1_ff4_TG[[\"const\", \"FF4\"]], x1_ff4_TG[control_variables]], axis=1)\n",
    "X1_ff4_TG_nc = x1_ff4_TG[[\"const\", \"FF4\"]]\n",
    "\n",
    "Y2_ff4_TG  = df_TG_ff4_k2[\"K2\"]\n",
    "x2_ff4_TG = sm.add_constant(df_TG_ff4_k2)\n",
    "X2_ff4_TG = pd.concat([x2_ff4_TG[[\"const\", \"FF4\"]], x2_ff4_TG[control_variables]], axis=1)\n",
    "X2_ff4_TG_nc = x2_ff4_TG[[\"const\", \"FF4\"]]\n",
    "\n",
    "Y3_ff4_TG  = df_TG_ff4_k3[\"K3\"]\n",
    "x3_ff4_TG = sm.add_constant(df_TG_ff4_k3)\n",
    "X3_ff4_TG = pd.concat([x3_ff4_TG[[\"const\", \"FF4\"]], x3_ff4_TG[control_variables]], axis=1)\n",
    "X3_ff4_TG_nc = x3_ff4_TG[[\"const\", \"FF4\"]]\n",
    "\n",
    "Y4_ff4_TG  = df_TG_ff4_k4[\"K4\"]\n",
    "x4_ff4_TG = sm.add_constant(df_TG_ff4_k4)\n",
    "X4_ff4_TG = pd.concat([x4_ff4_TG[[\"const\", \"FF4\"]], x4_ff4_TG[control_variables]], axis=1)\n",
    "X4_ff4_TG_nc = x4_ff4_TG[[\"const\", \"FF4\"]]\n",
    "\n",
    "Y5_ff4_TG  = df_TG_ff4_k5[\"K5\"]\n",
    "x5_ff4_TG = sm.add_constant(df_TG_ff4_k5)\n",
    "X5_ff4_TG = pd.concat([x5_ff4_TG[[\"const\", \"FF4\"]], x5_ff4_TG[control_variables]], axis=1)\n",
    "X5_ff4_TG_nc = x5_ff4_TG[[\"const\", \"FF4\"]]\n",
    "\n",
    "Y6_ff4_TG  = df_TG_ff4_k6[\"K6\"]\n",
    "x6_ff4_TG = sm.add_constant(df_TG_ff4_k6)\n",
    "X6_ff4_TG = pd.concat([x6_ff4_TG[[\"const\", \"FF4\"]], x6_ff4_TG[control_variables]], axis=1)\n",
    "X6_ff4_TG_nc = x6_ff4_TG[[\"const\", \"FF4\"]]\n",
    "\n",
    "Y7_ff4_TG  = df_TG_ff4_k7[\"K7\"]\n",
    "x7_ff4_TG = sm.add_constant(df_TG_ff4_k7)\n",
    "X7_ff4_TG = pd.concat([x7_ff4_TG[[\"const\", \"FF4\"]], x7_ff4_TG[control_variables]], axis=1)\n",
    "X7_ff4_TG_nc = x7_ff4_TG[[\"const\", \"FF4\"]]\n",
    "\n",
    "X_ff4_h9 = [X1_ff4_TG, X2_ff4_TG, X3_ff4_TG, X4_ff4_TG , X5_ff4_TG, X6_ff4_TG, X7_ff4_TG ]\n",
    "X_ff4_h9_nc = [X1_ff4_TG_nc, X2_ff4_TG_nc, X3_ff4_TG_nc, X4_ff4_TG_nc , X5_ff4_TG_nc, X6_ff4_TG_nc, X7_ff4_TG_nc ]\n",
    "Y_ff4_h9 = [Y1_ff4_TG, Y2_ff4_TG, Y3_ff4_TG, Y4_ff4_TG, Y5_ff4_TG, Y6_ff4_TG, Y7_ff4_TG]"
   ]
  },
  {
   "cell_type": "markdown",
   "id": "be1b804d-bdf6-4105-88cc-2a31a151bdd2",
   "metadata": {},
   "source": [
    "### Analysis - BRW"
   ]
  },
  {
   "cell_type": "code",
   "execution_count": 40,
   "id": "1d21f8c7-2ebc-47af-a0c1-d8fc5628e66a",
   "metadata": {
    "scrolled": true
   },
   "outputs": [
    {
     "data": {
      "text/html": [
       "<div>\n",
       "<style scoped>\n",
       "    .dataframe tbody tr th:only-of-type {\n",
       "        vertical-align: middle;\n",
       "    }\n",
       "\n",
       "    .dataframe tbody tr th {\n",
       "        vertical-align: top;\n",
       "    }\n",
       "\n",
       "    .dataframe thead th {\n",
       "        text-align: right;\n",
       "    }\n",
       "</style>\n",
       "<table border=\"1\" class=\"dataframe\">\n",
       "  <thead>\n",
       "    <tr style=\"text-align: right;\">\n",
       "      <th></th>\n",
       "      <th>K1</th>\n",
       "      <th>K2</th>\n",
       "      <th>K3</th>\n",
       "      <th>K4</th>\n",
       "      <th>K5</th>\n",
       "      <th>K6</th>\n",
       "      <th>K7</th>\n",
       "    </tr>\n",
       "  </thead>\n",
       "  <tbody>\n",
       "    <tr>\n",
       "      <th>Coeff</th>\n",
       "      <td>0.0</td>\n",
       "      <td>0.0</td>\n",
       "      <td>0.0</td>\n",
       "      <td>0.0</td>\n",
       "      <td>0.0</td>\n",
       "      <td>0.0</td>\n",
       "      <td>0.0</td>\n",
       "    </tr>\n",
       "    <tr>\n",
       "      <th>95% conf Interval</th>\n",
       "      <td>0.0</td>\n",
       "      <td>0.0</td>\n",
       "      <td>0.0</td>\n",
       "      <td>0.0</td>\n",
       "      <td>0.0</td>\n",
       "      <td>0.0</td>\n",
       "      <td>0.0</td>\n",
       "    </tr>\n",
       "  </tbody>\n",
       "</table>\n",
       "</div>"
      ],
      "text/plain": [
       "                    K1   K2   K3   K4   K5   K6   K7\n",
       "Coeff              0.0  0.0  0.0  0.0  0.0  0.0  0.0\n",
       "95% conf Interval  0.0  0.0  0.0  0.0  0.0  0.0  0.0"
      ]
     },
     "execution_count": 40,
     "metadata": {},
     "output_type": "execute_result"
    }
   ],
   "source": [
    "H9_BRW_result_df_c = pd.DataFrame(np.zeros((2, 7)), columns=[\"K1\", \"K2\", \"K3\", \"K4\", \"K5\", \"K6\", \"K7\"])\n",
    "H9_BRW_result_df_c.index = [\"Coeff\", \"95% conf Interval\"]\n",
    "H9_BRW_result_df_c\n",
    "\n",
    "H9_BRW_result_df_nc = pd.DataFrame(np.zeros((2, 7)), columns=[\"K1\", \"K2\", \"K3\", \"K4\", \"K5\", \"K6\", \"K7\"])\n",
    "H9_BRW_result_df_nc.index = [\"Coeff\", \"95% conf Interval\"]\n",
    "H9_BRW_result_df_nc"
   ]
  },
  {
   "cell_type": "code",
   "execution_count": 41,
   "id": "7030e4ab-3120-4067-89a1-932f090f16c9",
   "metadata": {},
   "outputs": [],
   "source": [
    "for i in range(len(X_brw_h9)):\n",
    "    X = X_brw_h9[i]\n",
    "    Y = Y_brw_h9[i]\n",
    " \n",
    "    result = sm.OLS(Y, X).fit()\n",
    "    coef = result.params[1]   \n",
    "    se = result.bse[1]\n",
    "    \n",
    "\n",
    "    # Compute confidence intervals\n",
    "    dof = result.df_resid  # Degrees of freedom\n",
    "    t_crit = stats.t.ppf(1 - alpha / 2, df=dof)  # Critical t-value\n",
    "\n",
    "    ci = t_crit * se\n",
    "    \n",
    "    H9_BRW_result_df_c.iloc[0,i] = coef\n",
    "    H9_BRW_result_df_c.iloc[1,i] = ci\n",
    "\n",
    "for i in range(len(X_brw_h9_nc)):\n",
    "    X = X_brw_h9_nc[i]\n",
    "    Y = Y_brw_h9[i]\n",
    " \n",
    "    result = sm.OLS(Y, X).fit()\n",
    "    coef = result.params[1]   \n",
    "    se = result.bse[1]\n",
    "    \n",
    "\n",
    "    # Compute confidence intervals\n",
    "    dof = result.df_resid  # Degrees of freedom\n",
    "    t_crit = stats.t.ppf(1 - alpha / 2, df=dof)  # Critical t-value\n",
    "\n",
    "    ci = t_crit * se\n",
    "    \n",
    "    H9_BRW_result_df_nc.iloc[0,i] = coef\n",
    "    H9_BRW_result_df_nc.iloc[1,i] = ci\n",
    "  \n",
    "  \n",
    "\n",
    "\n",
    "\n",
    "\n"
   ]
  },
  {
   "cell_type": "markdown",
   "id": "56ba41a3-ea41-495e-8aa8-beceef0328cd",
   "metadata": {},
   "source": [
    "### FF4"
   ]
  },
  {
   "cell_type": "code",
   "execution_count": 42,
   "id": "c6fec074-7781-49fa-a99f-3420821c8e50",
   "metadata": {},
   "outputs": [
    {
     "data": {
      "text/html": [
       "<div>\n",
       "<style scoped>\n",
       "    .dataframe tbody tr th:only-of-type {\n",
       "        vertical-align: middle;\n",
       "    }\n",
       "\n",
       "    .dataframe tbody tr th {\n",
       "        vertical-align: top;\n",
       "    }\n",
       "\n",
       "    .dataframe thead th {\n",
       "        text-align: right;\n",
       "    }\n",
       "</style>\n",
       "<table border=\"1\" class=\"dataframe\">\n",
       "  <thead>\n",
       "    <tr style=\"text-align: right;\">\n",
       "      <th></th>\n",
       "      <th>K1</th>\n",
       "      <th>K2</th>\n",
       "      <th>K3</th>\n",
       "      <th>K4</th>\n",
       "      <th>K5</th>\n",
       "      <th>K6</th>\n",
       "      <th>K7</th>\n",
       "    </tr>\n",
       "  </thead>\n",
       "  <tbody>\n",
       "    <tr>\n",
       "      <th>Coeff</th>\n",
       "      <td>0.0</td>\n",
       "      <td>0.0</td>\n",
       "      <td>0.0</td>\n",
       "      <td>0.0</td>\n",
       "      <td>0.0</td>\n",
       "      <td>0.0</td>\n",
       "      <td>0.0</td>\n",
       "    </tr>\n",
       "    <tr>\n",
       "      <th>95% conf Interval</th>\n",
       "      <td>0.0</td>\n",
       "      <td>0.0</td>\n",
       "      <td>0.0</td>\n",
       "      <td>0.0</td>\n",
       "      <td>0.0</td>\n",
       "      <td>0.0</td>\n",
       "      <td>0.0</td>\n",
       "    </tr>\n",
       "  </tbody>\n",
       "</table>\n",
       "</div>"
      ],
      "text/plain": [
       "                    K1   K2   K3   K4   K5   K6   K7\n",
       "Coeff              0.0  0.0  0.0  0.0  0.0  0.0  0.0\n",
       "95% conf Interval  0.0  0.0  0.0  0.0  0.0  0.0  0.0"
      ]
     },
     "execution_count": 42,
     "metadata": {},
     "output_type": "execute_result"
    }
   ],
   "source": [
    "H9_FF4_result_df_c = pd.DataFrame(np.zeros((2, 7)), columns=[\"K1\", \"K2\", \"K3\", \"K4\", \"K5\", \"K6\", \"K7\"])\n",
    "H9_FF4_result_df_c.index = [\"Coeff\", \"95% conf Interval\"]\n",
    "H9_FF4_result_df_c\n",
    "\n",
    "H9_FF4_result_df_nc = pd.DataFrame(np.zeros((2, 7)), columns=[\"K1\", \"K2\", \"K3\", \"K4\", \"K5\", \"K6\", \"K7\"])\n",
    "H9_FF4_result_df_nc.index = [\"Coeff\", \"95% conf Interval\"]\n",
    "H9_FF4_result_df_nc"
   ]
  },
  {
   "cell_type": "code",
   "execution_count": 43,
   "id": "97a978b3-3146-4591-bc8f-210da5fa8e65",
   "metadata": {},
   "outputs": [],
   "source": [
    "for i in range(len(X_ff4_h9)):\n",
    "    X = X_ff4_h9[i]\n",
    "    Y = Y_ff4_h9[i]\n",
    "  \n",
    "    result = sm.OLS(Y, X).fit()\n",
    "    coef = result.params[1]   \n",
    "    se = result.bse[1]\n",
    "    \n",
    "\n",
    "    # Compute confidence intervals\n",
    "    dof = result.df_resid  # Degrees of freedom\n",
    "    t_crit = stats.t.ppf(1 - alpha / 2, df=dof)  # Critical t-value\n",
    "\n",
    "\n",
    "    ci= t_crit * se\n",
    "    \n",
    "    H9_FF4_result_df_c.iloc[0,i] = coef\n",
    "    H9_FF4_result_df_c.iloc[1,i] = ci\n",
    "\n",
    "for i in range(len(X_ff4_h9_nc)):\n",
    "    X = X_ff4_h9_nc[i]\n",
    "    Y = Y_ff4_h9[i]\n",
    "  \n",
    "    result = sm.OLS(Y, X).fit()\n",
    "    coef = result.params[1]   \n",
    "    se = result.bse[1]\n",
    "    \n",
    "\n",
    "    # Compute confidence intervals\n",
    "    dof = result.df_resid  # Degrees of freedom\n",
    "    t_crit = stats.t.ppf(1 - alpha / 2, df=dof)  # Critical t-value\n",
    "\n",
    "\n",
    "    ci= t_crit * se\n",
    "    \n",
    "    H9_FF4_result_df_nc.iloc[0,i] = coef\n",
    "    H9_FF4_result_df_nc.iloc[1,i] = ci\n",
    "   "
   ]
  },
  {
   "cell_type": "markdown",
   "id": "d461cd87-ac8b-421d-9e4d-3e0dbf95d6cb",
   "metadata": {},
   "source": [
    "### Plotting Results with control variables"
   ]
  },
  {
   "cell_type": "code",
   "execution_count": 44,
   "id": "6f71b05f-e652-4574-9b3a-fa9ade790528",
   "metadata": {},
   "outputs": [
    {
     "data": {
      "image/png": "[encoded data removed]",
      "text/plain": [
       "<Figure size 1000x600 with 2 Axes>"
      ]
     },
     "metadata": {},
     "output_type": "display_data"
    }
   ],
   "source": [
    "# Simulated Data\n",
    "fig, axes = plt.subplots(1, 2, figsize=(10, 6))\n",
    "\n",
    "# Plot for Young Firms\n",
    "axes[0].errorbar(H9_BRW_result_df_c.columns, H9_BRW_result_df_c.loc[\"Coeff\"], yerr=H9_BRW_result_df_c.loc[ \"95% conf Interval\"], fmt='-o', color='red', ecolor='red', linestyle='solid', capsize=4)\n",
    "axes[0].errorbar(H1_BRW_result_df_c.columns, H1_BRW_result_df_c.loc[\"Coeff\"], yerr=H1_BRW_result_df_c.loc[ \"95% conf Interval\"], fmt='-o', color='blue', ecolor='blue', linestyle='solid', capsize=4)\n",
    "axes[0].axhline(0, color='gray', linestyle='dashed')\n",
    "axes[0].set_title(\"BRW\")\n",
    "axes[0].set_xlabel(\"Month Since Shock\")\n",
    "axes[0].set_ylabel(\"Level Change\")\n",
    "axes[0].grid()\n",
    "axes[0].set_ylim(-0.4,0.4) \n",
    "\n",
    "# Plot for Old Firms\n",
    "axes[1].errorbar(H9_FF4_result_df_c.columns, H9_FF4_result_df_c.loc[\"Coeff\"], yerr=H9_FF4_result_df_c.loc[\"95% conf Interval\"], fmt='-o', color='red', ecolor='red', linestyle='solid', capsize=4)\n",
    "axes[1].errorbar(H1_FF4_result_df_c.columns, H1_FF4_result_df_c.loc[\"Coeff\"], yerr=H1_FF4_result_df_c.loc[\"95% conf Interval\"], fmt='-o', color='blue', ecolor='blue', linestyle='solid', capsize=4)\n",
    "axes[1].axhline(0, color='gray', linestyle='dashed')\n",
    "axes[1].set_title(\"FF4\")\n",
    "axes[1].set_xlabel(\"Month Since Shock\")\n",
    "axes[1].set_ylabel(\"Level Change\")\n",
    "axes[1].grid()\n",
    "axes[1].set_ylim(-0.4,0.4)\n",
    "\n",
    "# Formatting the frames\n",
    "for ax in axes:\n",
    "    ax.spines['top'].set_visible(False)\n",
    "    ax.spines['right'].set_visible(False)\n",
    "    ax.spines['left'].set_linewidth(1.2)\n",
    "    ax.spines['bottom'].set_linewidth(1.2)\n",
    "\n",
    "\n",
    "plt.tight_layout()\n",
    "plt.show()\n"
   ]
  },
  {
   "cell_type": "markdown",
   "id": "2de220b2-7d26-48c7-b0ca-c98ef5013810",
   "metadata": {},
   "source": [
    "### Plotting Results without control variables"
   ]
  },
  {
   "cell_type": "code",
   "execution_count": 45,
   "id": "044fa395-f63c-405e-afe5-d532da650669",
   "metadata": {},
   "outputs": [
    {
     "data": {
      "image/png": "[encoded data removed]",
      "text/plain": [
       "<Figure size 1000x600 with 2 Axes>"
      ]
     },
     "metadata": {},
     "output_type": "display_data"
    }
   ],
   "source": [
    "# Simulated Data\n",
    "fig, axes = plt.subplots(1, 2, figsize=(10, 6))\n",
    "\n",
    "# Plot for Young Firms\n",
    "axes[0].errorbar(H9_BRW_result_df_nc.columns, H9_BRW_result_df_nc.loc[\"Coeff\"], yerr=H9_BRW_result_df_nc.loc[ \"95% conf Interval\"], fmt='-o', color='red', ecolor='red', linestyle='solid', capsize=4)\n",
    "axes[0].errorbar(H1_BRW_result_df_nc.columns, H1_BRW_result_df_nc.loc[\"Coeff\"], yerr=H1_BRW_result_df_nc.loc[ \"95% conf Interval\"], fmt='-o', color='blue', ecolor='blue', linestyle='solid', capsize=4)\n",
    "axes[0].axhline(0, color='gray', linestyle='dashed')\n",
    "axes[0].set_title(\"BRW\")\n",
    "axes[0].set_xlabel(\"Month Since Shock\")\n",
    "axes[0].set_ylabel(\"Level Change\")\n",
    "axes[0].grid()\n",
    "axes[0].set_ylim(-0.4,0.4) \n",
    "\n",
    "# Plot for Old Firms\n",
    "axes[1].errorbar(H9_FF4_result_df_nc.columns, H9_FF4_result_df_nc.loc[\"Coeff\"], yerr=H9_FF4_result_df_nc.loc[\"95% conf Interval\"], fmt='-o', color='red', ecolor='red', linestyle='solid', capsize=4)\n",
    "axes[1].errorbar(H1_FF4_result_df_nc.columns, H1_FF4_result_df_nc.loc[\"Coeff\"], yerr=H1_FF4_result_df_nc.loc[\"95% conf Interval\"], fmt='-o', color='blue', ecolor='blue', linestyle='solid', capsize=4)\n",
    "axes[1].axhline(0, color='gray', linestyle='dashed')\n",
    "axes[1].set_title(\"FF4\")\n",
    "axes[1].set_xlabel(\"Month Since Shock\")\n",
    "axes[1].set_ylabel(\"Level Change\")\n",
    "axes[1].grid()\n",
    "axes[1].set_ylim(-0.4,0.4)\n",
    "\n",
    "# Formatting the frames\n",
    "for ax in axes:\n",
    "    ax.spines['top'].set_visible(False)\n",
    "    ax.spines['right'].set_visible(False)\n",
    "    ax.spines['left'].set_linewidth(1.2)\n",
    "    ax.spines['bottom'].set_linewidth(1.2)\n",
    "\n",
    "\n",
    "plt.tight_layout()\n",
    "plt.savefig(\"Data/Pictures/H9_nc.png\")\n",
    "plt.show()\n"
   ]
  },
  {
   "cell_type": "code",
   "execution_count": null,
   "id": "6ca531f7-026e-4642-9d17-6b68f44f3bc0",
   "metadata": {},
   "outputs": [],
   "source": []
  },
  {
   "cell_type": "code",
   "execution_count": null,
   "id": "582fe3a1-416e-4850-b326-5759abd803ee",
   "metadata": {},
   "outputs": [],
   "source": []
  },
  {
   "cell_type": "code",
   "execution_count": null,
   "id": "a08cd04d-205c-49eb-856c-7b855e3098db",
   "metadata": {},
   "outputs": [],
   "source": []
  },
  {
   "cell_type": "code",
   "execution_count": null,
   "id": "2ac8290d-27cf-481c-ba91-923165775caf",
   "metadata": {},
   "outputs": [],
   "source": []
  },
  {
   "cell_type": "code",
   "execution_count": null,
   "id": "796ee899-0906-436e-b2c4-8b1d7aa0a091",
   "metadata": {},
   "outputs": [],
   "source": []
  },
  {
   "cell_type": "code",
   "execution_count": null,
   "id": "194a356f-b3f1-4fa3-82d2-1f29430243ee",
   "metadata": {},
   "outputs": [],
   "source": []
  },
  {
   "cell_type": "code",
   "execution_count": null,
   "id": "a7228f7c-3af0-48e8-b349-2a4daa70234c",
   "metadata": {},
   "outputs": [],
   "source": []
  }
 ],
 "metadata": {
  "kernelspec": {
   "display_name": "Python 3 (ipykernel)",
   "language": "python",
   "name": "python3"
  },
  "language_info": {
   "codemirror_mode": {
    "name": "ipython",
    "version": 3
   },
   "file_extension": ".py",
   "mimetype": "text/x-python",
   "name": "python",
   "nbconvert_exporter": "python",
   "pygments_lexer": "ipython3",
   "version": "3.11.7"
  }
 },
 "nbformat": 4,
 "nbformat_minor": 5
}
